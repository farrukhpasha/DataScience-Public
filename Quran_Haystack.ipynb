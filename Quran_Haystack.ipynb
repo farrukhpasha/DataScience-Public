{
  "nbformat": 4,
  "nbformat_minor": 0,
  "metadata": {
    "colab": {
      "name": "Quran-Haystack.ipynb",
      "provenance": [],
      "collapsed_sections": [],
      "authorship_tag": "ABX9TyM7OxyvjUXMUq7/VbEoBfRi",
      "include_colab_link": true
    },
    "kernelspec": {
      "name": "python3",
      "display_name": "Python 3"
    },
    "accelerator": "GPU"
  },
  "cells": [
    {
      "cell_type": "markdown",
      "metadata": {
        "id": "view-in-github",
        "colab_type": "text"
      },
      "source": [
        "<a href=\"https://colab.research.google.com/github/farrukhpasha/DataScience-Public/blob/main/Quran_Haystack.ipynb\" target=\"_parent\"><img src=\"https://colab.research.google.com/assets/colab-badge.svg\" alt=\"Open In Colab\"/></a>"
      ]
    },
    {
      "cell_type": "markdown",
      "metadata": {
        "id": "8dcIRMxIJ_4L"
      },
      "source": [
        "Enable the GPU Support and make sure the GPU is enabled."
      ]
    },
    {
      "cell_type": "code",
      "metadata": {
        "colab": {
          "base_uri": "https://localhost:8080/"
        },
        "id": "QznFzefjru-j",
        "outputId": "c3d0371e-7c93-4e88-d6ab-649bf66ec982"
      },
      "source": [
        "!nvidia-smi"
      ],
      "execution_count": 4,
      "outputs": [
        {
          "output_type": "stream",
          "text": [
            "Tue Feb  2 19:11:27 2021       \n",
            "+-----------------------------------------------------------------------------+\n",
            "| NVIDIA-SMI 460.39       Driver Version: 418.67       CUDA Version: 10.1     |\n",
            "|-------------------------------+----------------------+----------------------+\n",
            "| GPU  Name        Persistence-M| Bus-Id        Disp.A | Volatile Uncorr. ECC |\n",
            "| Fan  Temp  Perf  Pwr:Usage/Cap|         Memory-Usage | GPU-Util  Compute M. |\n",
            "|                               |                      |               MIG M. |\n",
            "|===============================+======================+======================|\n",
            "|   0  Tesla T4            Off  | 00000000:00:04.0 Off |                    0 |\n",
            "| N/A   63C    P8    10W /  70W |      0MiB / 15079MiB |      0%      Default |\n",
            "|                               |                      |                 ERR! |\n",
            "+-------------------------------+----------------------+----------------------+\n",
            "                                                                               \n",
            "+-----------------------------------------------------------------------------+\n",
            "| Processes:                                                                  |\n",
            "|  GPU   GI   CI        PID   Type   Process name                  GPU Memory |\n",
            "|        ID   ID                                                   Usage      |\n",
            "|=============================================================================|\n",
            "|  No running processes found                                                 |\n",
            "+-----------------------------------------------------------------------------+\n"
          ],
          "name": "stdout"
        }
      ]
    },
    {
      "cell_type": "markdown",
      "metadata": {
        "id": "KTzaA-PrryIz"
      },
      "source": [
        "# Install the latest master of Haystack\r\n"
      ]
    },
    {
      "cell_type": "code",
      "metadata": {
        "colab": {
          "base_uri": "https://localhost:8080/"
        },
        "id": "w-GcKdAjxrRu",
        "outputId": "9ccf126a-e0f2-4107-ef4a-d6d46d05be33"
      },
      "source": [
        "# Install the latest master of Haystack\r\n",
        "!pip install git+https://github.com/deepset-ai/haystack.git\r\n",
        "!pip install urllib3==1.25.4\r\n",
        "!pip install torch==1.6.0+cu101 torchvision==0.6.1+cu101 -f https://download.pytorch.org/whl/torch_stable.html"
      ],
      "execution_count": 5,
      "outputs": [
        {
          "output_type": "stream",
          "text": [
            "Collecting git+https://github.com/deepset-ai/haystack.git\n",
            "  Cloning https://github.com/deepset-ai/haystack.git to /tmp/pip-req-build-gsg0hrau\n",
            "  Running command git clone -q https://github.com/deepset-ai/haystack.git /tmp/pip-req-build-gsg0hrau\n",
            "Requirement already satisfied (use --upgrade to upgrade): farm-haystack==0.7.0 from git+https://github.com/deepset-ai/haystack.git in /usr/local/lib/python3.6/dist-packages\n",
            "Requirement already satisfied: farm==0.6.2 in /usr/local/lib/python3.6/dist-packages (from farm-haystack==0.7.0) (0.6.2)\n",
            "Requirement already satisfied: fastapi in /usr/local/lib/python3.6/dist-packages (from farm-haystack==0.7.0) (0.63.0)\n",
            "Requirement already satisfied: uvicorn in /usr/local/lib/python3.6/dist-packages (from farm-haystack==0.7.0) (0.13.3)\n",
            "Requirement already satisfied: gunicorn in /usr/local/lib/python3.6/dist-packages (from farm-haystack==0.7.0) (20.0.4)\n",
            "Requirement already satisfied: pandas in /usr/local/lib/python3.6/dist-packages (from farm-haystack==0.7.0) (1.1.5)\n",
            "Requirement already satisfied: sklearn in /usr/local/lib/python3.6/dist-packages (from farm-haystack==0.7.0) (0.0)\n",
            "Requirement already satisfied: elasticsearch<=7.10,>=7.7 in /usr/local/lib/python3.6/dist-packages (from farm-haystack==0.7.0) (7.10.0)\n",
            "Requirement already satisfied: elastic-apm in /usr/local/lib/python3.6/dist-packages (from farm-haystack==0.7.0) (6.0.0)\n",
            "Requirement already satisfied: tox in /usr/local/lib/python3.6/dist-packages (from farm-haystack==0.7.0) (3.21.3)\n",
            "Requirement already satisfied: coverage in /usr/local/lib/python3.6/dist-packages (from farm-haystack==0.7.0) (3.7.1)\n",
            "Requirement already satisfied: langdetect in /usr/local/lib/python3.6/dist-packages (from farm-haystack==0.7.0) (1.0.8)\n",
            "Requirement already satisfied: python-multipart in /usr/local/lib/python3.6/dist-packages (from farm-haystack==0.7.0) (0.0.5)\n",
            "Requirement already satisfied: python-docx in /usr/local/lib/python3.6/dist-packages (from farm-haystack==0.7.0) (0.8.10)\n",
            "Requirement already satisfied: sqlalchemy_utils in /usr/local/lib/python3.6/dist-packages (from farm-haystack==0.7.0) (0.36.8)\n",
            "Requirement already satisfied: tika in /usr/local/lib/python3.6/dist-packages (from farm-haystack==0.7.0) (1.24)\n",
            "Requirement already satisfied: httptools in /usr/local/lib/python3.6/dist-packages (from farm-haystack==0.7.0) (0.1.1)\n",
            "Requirement already satisfied: nltk in /usr/local/lib/python3.6/dist-packages (from farm-haystack==0.7.0) (3.2.5)\n",
            "Requirement already satisfied: more_itertools in /usr/local/lib/python3.6/dist-packages (from farm-haystack==0.7.0) (8.6.0)\n",
            "Requirement already satisfied: networkx in /usr/local/lib/python3.6/dist-packages (from farm-haystack==0.7.0) (2.5)\n",
            "Requirement already satisfied: pymilvus in /usr/local/lib/python3.6/dist-packages (from farm-haystack==0.7.0) (0.4.0)\n",
            "Requirement already satisfied: psycopg2-binary in /usr/local/lib/python3.6/dist-packages (from farm-haystack==0.7.0) (2.8.6)\n",
            "Requirement already satisfied: faiss-cpu==1.6.3 in /usr/local/lib/python3.6/dist-packages (from farm-haystack==0.7.0) (1.6.3)\n",
            "Requirement already satisfied: uvloop in /usr/local/lib/python3.6/dist-packages (from farm-haystack==0.7.0) (0.14.0)\n",
            "Requirement already satisfied: mlflow<=1.13.1 in /usr/local/lib/python3.6/dist-packages (from farm==0.6.2->farm-haystack==0.7.0) (1.13.1)\n",
            "Requirement already satisfied: seqeval in /usr/local/lib/python3.6/dist-packages (from farm==0.6.2->farm-haystack==0.7.0) (1.2.2)\n",
            "Requirement already satisfied: dotmap in /usr/local/lib/python3.6/dist-packages (from farm==0.6.2->farm-haystack==0.7.0) (1.3.23)\n",
            "Requirement already satisfied: setuptools in /usr/local/lib/python3.6/dist-packages (from farm==0.6.2->farm-haystack==0.7.0) (53.0.0)\n",
            "Requirement already satisfied: wheel in /usr/local/lib/python3.6/dist-packages (from farm==0.6.2->farm-haystack==0.7.0) (0.36.2)\n",
            "Requirement already satisfied: Werkzeug==0.16.1 in /usr/local/lib/python3.6/dist-packages (from farm==0.6.2->farm-haystack==0.7.0) (0.16.1)\n",
            "Requirement already satisfied: requests in /usr/local/lib/python3.6/dist-packages (from farm==0.6.2->farm-haystack==0.7.0) (2.23.0)\n",
            "Requirement already satisfied: psutil in /usr/local/lib/python3.6/dist-packages (from farm==0.6.2->farm-haystack==0.7.0) (5.4.8)\n",
            "Requirement already satisfied: flask-restplus in /usr/local/lib/python3.6/dist-packages (from farm==0.6.2->farm-haystack==0.7.0) (0.13.0)\n",
            "Requirement already satisfied: scipy>=1.3.2 in /usr/local/lib/python3.6/dist-packages (from farm==0.6.2->farm-haystack==0.7.0) (1.4.1)\n",
            "Requirement already satisfied: flask in /usr/local/lib/python3.6/dist-packages (from farm==0.6.2->farm-haystack==0.7.0) (1.1.2)\n",
            "Requirement already satisfied: dill in /usr/local/lib/python3.6/dist-packages (from farm==0.6.2->farm-haystack==0.7.0) (0.3.3)\n",
            "Requirement already satisfied: flask-cors in /usr/local/lib/python3.6/dist-packages (from farm==0.6.2->farm-haystack==0.7.0) (3.0.10)\n",
            "Requirement already satisfied: sentencepiece in /usr/local/lib/python3.6/dist-packages (from farm==0.6.2->farm-haystack==0.7.0) (0.1.95)\n",
            "Requirement already satisfied: boto3 in /usr/local/lib/python3.6/dist-packages (from farm==0.6.2->farm-haystack==0.7.0) (1.16.63)\n",
            "Requirement already satisfied: tqdm in /usr/local/lib/python3.6/dist-packages (from farm==0.6.2->farm-haystack==0.7.0) (4.41.1)\n",
            "Requirement already satisfied: torch<1.8,>1.5 in /usr/local/lib/python3.6/dist-packages (from farm==0.6.2->farm-haystack==0.7.0) (1.6.0+cu101)\n",
            "Requirement already satisfied: transformers==4.1.1 in /usr/local/lib/python3.6/dist-packages (from farm==0.6.2->farm-haystack==0.7.0) (4.1.1)\n",
            "Requirement already satisfied: pydantic<2.0.0,>=1.0.0 in /usr/local/lib/python3.6/dist-packages (from fastapi->farm-haystack==0.7.0) (1.7.3)\n",
            "Requirement already satisfied: starlette==0.13.6 in /usr/local/lib/python3.6/dist-packages (from fastapi->farm-haystack==0.7.0) (0.13.6)\n",
            "Requirement already satisfied: click==7.* in /usr/local/lib/python3.6/dist-packages (from uvicorn->farm-haystack==0.7.0) (7.1.2)\n",
            "Requirement already satisfied: typing-extensions; python_version < \"3.8\" in /usr/local/lib/python3.6/dist-packages (from uvicorn->farm-haystack==0.7.0) (3.7.4.3)\n",
            "Requirement already satisfied: h11>=0.8 in /usr/local/lib/python3.6/dist-packages (from uvicorn->farm-haystack==0.7.0) (0.12.0)\n",
            "Requirement already satisfied: pytz>=2017.2 in /usr/local/lib/python3.6/dist-packages (from pandas->farm-haystack==0.7.0) (2018.9)\n",
            "Requirement already satisfied: python-dateutil>=2.7.3 in /usr/local/lib/python3.6/dist-packages (from pandas->farm-haystack==0.7.0) (2.8.1)\n",
            "Requirement already satisfied: numpy>=1.15.4 in /usr/local/lib/python3.6/dist-packages (from pandas->farm-haystack==0.7.0) (1.19.5)\n",
            "Requirement already satisfied: scikit-learn in /usr/local/lib/python3.6/dist-packages (from sklearn->farm-haystack==0.7.0) (0.22.2.post1)\n",
            "Requirement already satisfied: certifi in /usr/local/lib/python3.6/dist-packages (from elasticsearch<=7.10,>=7.7->farm-haystack==0.7.0) (2020.12.5)\n",
            "Requirement already satisfied: urllib3<2,>=1.21.1 in /usr/local/lib/python3.6/dist-packages (from elasticsearch<=7.10,>=7.7->farm-haystack==0.7.0) (1.25.4)\n",
            "Requirement already satisfied: py>=1.4.17 in /usr/local/lib/python3.6/dist-packages (from tox->farm-haystack==0.7.0) (1.10.0)\n",
            "Requirement already satisfied: toml>=0.9.4 in /usr/local/lib/python3.6/dist-packages (from tox->farm-haystack==0.7.0) (0.10.2)\n",
            "Requirement already satisfied: six>=1.14.0 in /usr/local/lib/python3.6/dist-packages (from tox->farm-haystack==0.7.0) (1.15.0)\n",
            "Requirement already satisfied: virtualenv!=20.0.0,!=20.0.1,!=20.0.2,!=20.0.3,!=20.0.4,!=20.0.5,!=20.0.6,!=20.0.7,>=16.0.0 in /usr/local/lib/python3.6/dist-packages (from tox->farm-haystack==0.7.0) (20.4.2)\n",
            "Requirement already satisfied: filelock>=3.0.0 in /usr/local/lib/python3.6/dist-packages (from tox->farm-haystack==0.7.0) (3.0.12)\n",
            "Requirement already satisfied: packaging>=14 in /usr/local/lib/python3.6/dist-packages (from tox->farm-haystack==0.7.0) (20.8)\n",
            "Requirement already satisfied: importlib-metadata>=0.12; python_version < \"3.8\" in /usr/local/lib/python3.6/dist-packages (from tox->farm-haystack==0.7.0) (3.4.0)\n",
            "Requirement already satisfied: pluggy>=0.12.0 in /usr/local/lib/python3.6/dist-packages (from tox->farm-haystack==0.7.0) (0.13.1)\n",
            "Requirement already satisfied: lxml>=2.3.2 in /usr/local/lib/python3.6/dist-packages (from python-docx->farm-haystack==0.7.0) (4.2.6)\n",
            "Requirement already satisfied: SQLAlchemy>=1.0 in /usr/local/lib/python3.6/dist-packages (from sqlalchemy_utils->farm-haystack==0.7.0) (1.3.22)\n",
            "Requirement already satisfied: decorator>=4.3.0 in /usr/local/lib/python3.6/dist-packages (from networkx->farm-haystack==0.7.0) (4.4.2)\n",
            "Requirement already satisfied: ujson>=1.35 in /usr/local/lib/python3.6/dist-packages (from pymilvus->farm-haystack==0.7.0) (4.0.2)\n",
            "Requirement already satisfied: grpcio>=1.22.0 in /usr/local/lib/python3.6/dist-packages (from pymilvus->farm-haystack==0.7.0) (1.32.0)\n",
            "Requirement already satisfied: grpcio-tools>=1.22.0 in /usr/local/lib/python3.6/dist-packages (from pymilvus->farm-haystack==0.7.0) (1.35.0)\n",
            "Requirement already satisfied: pyyaml in /usr/local/lib/python3.6/dist-packages (from mlflow<=1.13.1->farm==0.6.2->farm-haystack==0.7.0) (3.13)\n",
            "Requirement already satisfied: azure-storage-blob>=12.0.0 in /usr/local/lib/python3.6/dist-packages (from mlflow<=1.13.1->farm==0.6.2->farm-haystack==0.7.0) (12.7.1)\n",
            "Requirement already satisfied: sqlparse>=0.3.1 in /usr/local/lib/python3.6/dist-packages (from mlflow<=1.13.1->farm==0.6.2->farm-haystack==0.7.0) (0.4.1)\n",
            "Requirement already satisfied: entrypoints in /usr/local/lib/python3.6/dist-packages (from mlflow<=1.13.1->farm==0.6.2->farm-haystack==0.7.0) (0.3)\n",
            "Requirement already satisfied: databricks-cli>=0.8.7 in /usr/local/lib/python3.6/dist-packages (from mlflow<=1.13.1->farm==0.6.2->farm-haystack==0.7.0) (0.14.1)\n",
            "Requirement already satisfied: cloudpickle in /usr/local/lib/python3.6/dist-packages (from mlflow<=1.13.1->farm==0.6.2->farm-haystack==0.7.0) (1.3.0)\n",
            "Requirement already satisfied: protobuf>=3.6.0 in /usr/local/lib/python3.6/dist-packages (from mlflow<=1.13.1->farm==0.6.2->farm-haystack==0.7.0) (3.12.4)\n",
            "Requirement already satisfied: prometheus-flask-exporter in /usr/local/lib/python3.6/dist-packages (from mlflow<=1.13.1->farm==0.6.2->farm-haystack==0.7.0) (0.18.1)\n",
            "Requirement already satisfied: docker>=4.0.0 in /usr/local/lib/python3.6/dist-packages (from mlflow<=1.13.1->farm==0.6.2->farm-haystack==0.7.0) (4.4.1)\n",
            "Requirement already satisfied: gitpython>=2.1.0 in /usr/local/lib/python3.6/dist-packages (from mlflow<=1.13.1->farm==0.6.2->farm-haystack==0.7.0) (3.1.12)\n",
            "Requirement already satisfied: querystring-parser in /usr/local/lib/python3.6/dist-packages (from mlflow<=1.13.1->farm==0.6.2->farm-haystack==0.7.0) (1.2.4)\n",
            "Requirement already satisfied: alembic<=1.4.1 in /usr/local/lib/python3.6/dist-packages (from mlflow<=1.13.1->farm==0.6.2->farm-haystack==0.7.0) (1.4.1)\n",
            "Requirement already satisfied: chardet<4,>=3.0.2 in /usr/local/lib/python3.6/dist-packages (from requests->farm==0.6.2->farm-haystack==0.7.0) (3.0.4)\n",
            "Requirement already satisfied: idna<3,>=2.5 in /usr/local/lib/python3.6/dist-packages (from requests->farm==0.6.2->farm-haystack==0.7.0) (2.10)\n",
            "Requirement already satisfied: jsonschema in /usr/local/lib/python3.6/dist-packages (from flask-restplus->farm==0.6.2->farm-haystack==0.7.0) (2.6.0)\n",
            "Requirement already satisfied: aniso8601>=0.82 in /usr/local/lib/python3.6/dist-packages (from flask-restplus->farm==0.6.2->farm-haystack==0.7.0) (8.1.1)\n",
            "Requirement already satisfied: itsdangerous>=0.24 in /usr/local/lib/python3.6/dist-packages (from flask->farm==0.6.2->farm-haystack==0.7.0) (1.1.0)\n",
            "Requirement already satisfied: Jinja2>=2.10.1 in /usr/local/lib/python3.6/dist-packages (from flask->farm==0.6.2->farm-haystack==0.7.0) (2.11.2)\n",
            "Requirement already satisfied: jmespath<1.0.0,>=0.7.1 in /usr/local/lib/python3.6/dist-packages (from boto3->farm==0.6.2->farm-haystack==0.7.0) (0.10.0)\n",
            "Requirement already satisfied: botocore<1.20.0,>=1.19.63 in /usr/local/lib/python3.6/dist-packages (from boto3->farm==0.6.2->farm-haystack==0.7.0) (1.19.63)\n",
            "Requirement already satisfied: s3transfer<0.4.0,>=0.3.0 in /usr/local/lib/python3.6/dist-packages (from boto3->farm==0.6.2->farm-haystack==0.7.0) (0.3.4)\n",
            "Requirement already satisfied: future in /usr/local/lib/python3.6/dist-packages (from torch<1.8,>1.5->farm==0.6.2->farm-haystack==0.7.0) (0.16.0)\n",
            "Requirement already satisfied: regex!=2019.12.17 in /usr/local/lib/python3.6/dist-packages (from transformers==4.1.1->farm==0.6.2->farm-haystack==0.7.0) (2019.12.20)\n",
            "Requirement already satisfied: sacremoses in /usr/local/lib/python3.6/dist-packages (from transformers==4.1.1->farm==0.6.2->farm-haystack==0.7.0) (0.0.43)\n",
            "Requirement already satisfied: tokenizers==0.9.4 in /usr/local/lib/python3.6/dist-packages (from transformers==4.1.1->farm==0.6.2->farm-haystack==0.7.0) (0.9.4)\n",
            "Requirement already satisfied: dataclasses; python_version < \"3.7\" in /usr/local/lib/python3.6/dist-packages (from transformers==4.1.1->farm==0.6.2->farm-haystack==0.7.0) (0.8)\n",
            "Requirement already satisfied: joblib>=0.11 in /usr/local/lib/python3.6/dist-packages (from scikit-learn->sklearn->farm-haystack==0.7.0) (1.0.0)\n",
            "Requirement already satisfied: importlib-resources>=1.0; python_version < \"3.7\" in /usr/local/lib/python3.6/dist-packages (from virtualenv!=20.0.0,!=20.0.1,!=20.0.2,!=20.0.3,!=20.0.4,!=20.0.5,!=20.0.6,!=20.0.7,>=16.0.0->tox->farm-haystack==0.7.0) (5.1.0)\n",
            "Requirement already satisfied: distlib<1,>=0.3.1 in /usr/local/lib/python3.6/dist-packages (from virtualenv!=20.0.0,!=20.0.1,!=20.0.2,!=20.0.3,!=20.0.4,!=20.0.5,!=20.0.6,!=20.0.7,>=16.0.0->tox->farm-haystack==0.7.0) (0.3.1)\n",
            "Requirement already satisfied: appdirs<2,>=1.4.3 in /usr/local/lib/python3.6/dist-packages (from virtualenv!=20.0.0,!=20.0.1,!=20.0.2,!=20.0.3,!=20.0.4,!=20.0.5,!=20.0.6,!=20.0.7,>=16.0.0->tox->farm-haystack==0.7.0) (1.4.4)\n",
            "Requirement already satisfied: pyparsing>=2.0.2 in /usr/local/lib/python3.6/dist-packages (from packaging>=14->tox->farm-haystack==0.7.0) (2.4.7)\n",
            "Requirement already satisfied: zipp>=0.5 in /usr/local/lib/python3.6/dist-packages (from importlib-metadata>=0.12; python_version < \"3.8\"->tox->farm-haystack==0.7.0) (3.4.0)\n",
            "Requirement already satisfied: azure-core<2.0.0,>=1.10.0 in /usr/local/lib/python3.6/dist-packages (from azure-storage-blob>=12.0.0->mlflow<=1.13.1->farm==0.6.2->farm-haystack==0.7.0) (1.10.0)\n",
            "Requirement already satisfied: msrest>=0.6.18 in /usr/local/lib/python3.6/dist-packages (from azure-storage-blob>=12.0.0->mlflow<=1.13.1->farm==0.6.2->farm-haystack==0.7.0) (0.6.21)\n",
            "Requirement already satisfied: cryptography>=2.1.4 in /usr/local/lib/python3.6/dist-packages (from azure-storage-blob>=12.0.0->mlflow<=1.13.1->farm==0.6.2->farm-haystack==0.7.0) (3.3.1)\n",
            "Requirement already satisfied: tabulate>=0.7.7 in /usr/local/lib/python3.6/dist-packages (from databricks-cli>=0.8.7->mlflow<=1.13.1->farm==0.6.2->farm-haystack==0.7.0) (0.8.7)\n",
            "Requirement already satisfied: prometheus-client in /usr/local/lib/python3.6/dist-packages (from prometheus-flask-exporter->mlflow<=1.13.1->farm==0.6.2->farm-haystack==0.7.0) (0.9.0)\n",
            "Requirement already satisfied: websocket-client>=0.32.0 in /usr/local/lib/python3.6/dist-packages (from docker>=4.0.0->mlflow<=1.13.1->farm==0.6.2->farm-haystack==0.7.0) (0.57.0)\n",
            "Requirement already satisfied: gitdb<5,>=4.0.1 in /usr/local/lib/python3.6/dist-packages (from gitpython>=2.1.0->mlflow<=1.13.1->farm==0.6.2->farm-haystack==0.7.0) (4.0.5)\n",
            "Requirement already satisfied: Mako in /usr/local/lib/python3.6/dist-packages (from alembic<=1.4.1->mlflow<=1.13.1->farm==0.6.2->farm-haystack==0.7.0) (1.1.4)\n",
            "Requirement already satisfied: python-editor>=0.3 in /usr/local/lib/python3.6/dist-packages (from alembic<=1.4.1->mlflow<=1.13.1->farm==0.6.2->farm-haystack==0.7.0) (1.0.4)\n",
            "Requirement already satisfied: MarkupSafe>=0.23 in /usr/local/lib/python3.6/dist-packages (from Jinja2>=2.10.1->flask->farm==0.6.2->farm-haystack==0.7.0) (1.1.1)\n",
            "Requirement already satisfied: isodate>=0.6.0 in /usr/local/lib/python3.6/dist-packages (from msrest>=0.6.18->azure-storage-blob>=12.0.0->mlflow<=1.13.1->farm==0.6.2->farm-haystack==0.7.0) (0.6.0)\n",
            "Requirement already satisfied: requests-oauthlib>=0.5.0 in /usr/local/lib/python3.6/dist-packages (from msrest>=0.6.18->azure-storage-blob>=12.0.0->mlflow<=1.13.1->farm==0.6.2->farm-haystack==0.7.0) (1.3.0)\n",
            "Requirement already satisfied: cffi>=1.12 in /usr/local/lib/python3.6/dist-packages (from cryptography>=2.1.4->azure-storage-blob>=12.0.0->mlflow<=1.13.1->farm==0.6.2->farm-haystack==0.7.0) (1.14.4)\n",
            "Requirement already satisfied: smmap<4,>=3.0.1 in /usr/local/lib/python3.6/dist-packages (from gitdb<5,>=4.0.1->gitpython>=2.1.0->mlflow<=1.13.1->farm==0.6.2->farm-haystack==0.7.0) (3.0.5)\n",
            "Requirement already satisfied: oauthlib>=3.0.0 in /usr/local/lib/python3.6/dist-packages (from requests-oauthlib>=0.5.0->msrest>=0.6.18->azure-storage-blob>=12.0.0->mlflow<=1.13.1->farm==0.6.2->farm-haystack==0.7.0) (3.1.0)\n",
            "Requirement already satisfied: pycparser in /usr/local/lib/python3.6/dist-packages (from cffi>=1.12->cryptography>=2.1.4->azure-storage-blob>=12.0.0->mlflow<=1.13.1->farm==0.6.2->farm-haystack==0.7.0) (2.20)\n",
            "Building wheels for collected packages: farm-haystack\n",
            "  Building wheel for farm-haystack (setup.py) ... \u001b[?25l\u001b[?25hdone\n",
            "  Created wheel for farm-haystack: filename=farm_haystack-0.7.0-cp36-none-any.whl size=127436 sha256=a5c343c74b885e8d3fbf1addd321d1bee51ca59a805ed7b8d1e41e029d33358f\n",
            "  Stored in directory: /tmp/pip-ephem-wheel-cache-8__dmrjm/wheels/ab/41/a4/4fbf362de283352078ecb6705c08b6525347aaea2eead2a60c\n",
            "Successfully built farm-haystack\n",
            "Requirement already satisfied: urllib3==1.25.4 in /usr/local/lib/python3.6/dist-packages (1.25.4)\n",
            "Looking in links: https://download.pytorch.org/whl/torch_stable.html\n",
            "Requirement already satisfied: torch==1.6.0+cu101 in /usr/local/lib/python3.6/dist-packages (1.6.0+cu101)\n",
            "Requirement already satisfied: torchvision==0.6.1+cu101 in /usr/local/lib/python3.6/dist-packages (0.6.1+cu101)\n",
            "Requirement already satisfied: numpy in /usr/local/lib/python3.6/dist-packages (from torch==1.6.0+cu101) (1.19.5)\n",
            "Requirement already satisfied: future in /usr/local/lib/python3.6/dist-packages (from torch==1.6.0+cu101) (0.16.0)\n",
            "Requirement already satisfied: pillow>=4.1.1 in /usr/local/lib/python3.6/dist-packages (from torchvision==0.6.1+cu101) (7.0.0)\n"
          ],
          "name": "stdout"
        }
      ]
    },
    {
      "cell_type": "code",
      "metadata": {
        "colab": {
          "base_uri": "https://localhost:8080/"
        },
        "id": "QBLnhCB9x3BJ",
        "outputId": "77104806-72e8-4369-e370-9eb48ca33bd8"
      },
      "source": [
        "from haystack import Finder\r\n",
        "from haystack.preprocessor.cleaning import clean_wiki_text\r\n",
        "from haystack.preprocessor.utils import convert_files_to_dicts, fetch_archive_from_http\r\n",
        "from haystack.reader.farm import FARMReader\r\n",
        "from haystack.reader.transformers import TransformersReader\r\n",
        "from haystack.utils import print_answers"
      ],
      "execution_count": 6,
      "outputs": [
        {
          "output_type": "stream",
          "text": [
            "02/02/2021 19:11:42 - INFO - faiss -   Loading faiss with AVX2 support.\n",
            "02/02/2021 19:11:42 - INFO - faiss -   Loading faiss.\n"
          ],
          "name": "stderr"
        }
      ]
    },
    {
      "cell_type": "code",
      "metadata": {
        "id": "xYS6Q9unx4RR"
      },
      "source": [
        "from haystack.document_store.faiss import FAISSDocumentStore\r\n",
        "\r\n",
        "document_store = FAISSDocumentStore(faiss_index_factory_str=\"Flat\")"
      ],
      "execution_count": 7,
      "outputs": []
    },
    {
      "cell_type": "code",
      "metadata": {
        "colab": {
          "base_uri": "https://localhost:8080/"
        },
        "id": "haia9W25x9lj",
        "outputId": "8289699e-c311-4fa9-e290-eaa3a2b41029"
      },
      "source": [
        "# Let's first get some files that we want to use\r\n",
        "doc_dir = \"sample_data/Quran\"\r\n",
        "#s3_url = \"https://s3.eu-central-1.amazonaws.com/deepset.ai-farm-qa/datasets/documents/wiki_gameofthrones_txt.zip\"\r\n",
        "#fetch_archive_from_http(url=s3_url, output_dir=doc_dir)\r\n",
        "\r\n",
        "# Convert files to dicts\r\n",
        "dicts = convert_files_to_dicts(dir_path=doc_dir, clean_func=clean_wiki_text, split_paragraphs=True)\r\n",
        "\r\n",
        "# Now, let's write the dicts containing documents to our DB.\r\n",
        "document_store.write_documents(dicts)"
      ],
      "execution_count": 8,
      "outputs": [
        {
          "output_type": "stream",
          "text": [
            "02/02/2021 19:11:43 - INFO - haystack.preprocessor.utils -   Converting sample_data/Quran/010.txt\n",
            "02/02/2021 19:11:43 - INFO - haystack.preprocessor.utils -   Converting sample_data/Quran/012.txt\n",
            "02/02/2021 19:11:43 - INFO - haystack.preprocessor.utils -   Converting sample_data/Quran/076.txt\n",
            "02/02/2021 19:11:43 - INFO - haystack.preprocessor.utils -   Converting sample_data/Quran/013.txt\n",
            "02/02/2021 19:11:43 - INFO - haystack.preprocessor.utils -   Converting sample_data/Quran/003.txt\n",
            "02/02/2021 19:11:43 - INFO - haystack.preprocessor.utils -   Converting sample_data/Quran/101.txt\n",
            "02/02/2021 19:11:43 - INFO - haystack.preprocessor.utils -   Converting sample_data/Quran/107.txt\n",
            "02/02/2021 19:11:43 - INFO - haystack.preprocessor.utils -   Converting sample_data/Quran/008.txt\n",
            "02/02/2021 19:11:43 - INFO - haystack.preprocessor.utils -   Converting sample_data/Quran/090.txt\n",
            "02/02/2021 19:11:43 - INFO - haystack.preprocessor.utils -   Converting sample_data/Quran/067.txt\n",
            "02/02/2021 19:11:43 - INFO - haystack.preprocessor.utils -   Converting sample_data/Quran/068.txt\n",
            "02/02/2021 19:11:43 - INFO - haystack.preprocessor.utils -   Converting sample_data/Quran/032.txt\n",
            "02/02/2021 19:11:43 - INFO - haystack.preprocessor.utils -   Converting sample_data/Quran/011.txt\n",
            "02/02/2021 19:11:43 - INFO - haystack.preprocessor.utils -   Converting sample_data/Quran/038.txt\n",
            "02/02/2021 19:11:43 - INFO - haystack.preprocessor.utils -   Converting sample_data/Quran/045.txt\n",
            "02/02/2021 19:11:43 - INFO - haystack.preprocessor.utils -   Converting sample_data/Quran/022.txt\n",
            "02/02/2021 19:11:43 - INFO - haystack.preprocessor.utils -   Converting sample_data/Quran/047.txt\n",
            "02/02/2021 19:11:43 - INFO - haystack.preprocessor.utils -   Converting sample_data/Quran/025.txt\n",
            "02/02/2021 19:11:43 - INFO - haystack.preprocessor.utils -   Converting sample_data/Quran/084.txt\n",
            "02/02/2021 19:11:43 - INFO - haystack.preprocessor.utils -   Converting sample_data/Quran/018.txt\n",
            "02/02/2021 19:11:43 - INFO - haystack.preprocessor.utils -   Converting sample_data/Quran/097.txt\n",
            "02/02/2021 19:11:43 - INFO - haystack.preprocessor.utils -   Converting sample_data/Quran/044.txt\n",
            "02/02/2021 19:11:43 - INFO - haystack.preprocessor.utils -   Converting sample_data/Quran/085.txt\n",
            "02/02/2021 19:11:43 - INFO - haystack.preprocessor.utils -   Converting sample_data/Quran/074.txt\n",
            "02/02/2021 19:11:43 - INFO - haystack.preprocessor.utils -   Converting sample_data/Quran/014.txt\n",
            "02/02/2021 19:11:43 - INFO - haystack.preprocessor.utils -   Converting sample_data/Quran/114.txt\n",
            "02/02/2021 19:11:43 - INFO - haystack.preprocessor.utils -   Converting sample_data/Quran/098.txt\n",
            "02/02/2021 19:11:43 - INFO - haystack.preprocessor.utils -   Converting sample_data/Quran/052.txt\n",
            "02/02/2021 19:11:43 - INFO - haystack.preprocessor.utils -   Converting sample_data/Quran/020.txt\n",
            "02/02/2021 19:11:43 - INFO - haystack.preprocessor.utils -   Converting sample_data/Quran/023.txt\n",
            "02/02/2021 19:11:43 - INFO - haystack.preprocessor.utils -   Converting sample_data/Quran/019.txt\n",
            "02/02/2021 19:11:43 - INFO - haystack.preprocessor.utils -   Converting sample_data/Quran/112.txt\n",
            "02/02/2021 19:11:43 - INFO - haystack.preprocessor.utils -   Converting sample_data/Quran/108.txt\n",
            "02/02/2021 19:11:43 - INFO - haystack.preprocessor.utils -   Converting sample_data/Quran/021.txt\n",
            "02/02/2021 19:11:43 - INFO - haystack.preprocessor.utils -   Converting sample_data/Quran/064.txt\n",
            "02/02/2021 19:11:43 - INFO - haystack.preprocessor.utils -   Converting sample_data/Quran/049.txt\n",
            "02/02/2021 19:11:43 - INFO - haystack.preprocessor.utils -   Converting sample_data/Quran/024.txt\n",
            "02/02/2021 19:11:43 - INFO - haystack.preprocessor.utils -   Converting sample_data/Quran/069.txt\n",
            "02/02/2021 19:11:43 - INFO - haystack.preprocessor.utils -   Converting sample_data/Quran/017.txt\n",
            "02/02/2021 19:11:43 - INFO - haystack.preprocessor.utils -   Converting sample_data/Quran/083.txt\n",
            "02/02/2021 19:11:43 - INFO - haystack.preprocessor.utils -   Converting sample_data/Quran/059.txt\n",
            "02/02/2021 19:11:43 - INFO - haystack.preprocessor.utils -   Converting sample_data/Quran/070.txt\n",
            "02/02/2021 19:11:43 - INFO - haystack.preprocessor.utils -   Converting sample_data/Quran/004.txt\n",
            "02/02/2021 19:11:43 - INFO - haystack.preprocessor.utils -   Converting sample_data/Quran/104.txt\n",
            "02/02/2021 19:11:43 - INFO - haystack.preprocessor.utils -   Converting sample_data/Quran/005.txt\n",
            "02/02/2021 19:11:43 - INFO - haystack.preprocessor.utils -   Converting sample_data/Quran/102.txt\n",
            "02/02/2021 19:11:43 - INFO - haystack.preprocessor.utils -   Converting sample_data/Quran/016.txt\n",
            "02/02/2021 19:11:43 - INFO - haystack.preprocessor.utils -   Converting sample_data/Quran/078.txt\n",
            "02/02/2021 19:11:43 - INFO - haystack.preprocessor.utils -   Converting sample_data/Quran/042.txt\n",
            "02/02/2021 19:11:43 - INFO - haystack.preprocessor.utils -   Converting sample_data/Quran/088.txt\n",
            "02/02/2021 19:11:43 - INFO - haystack.preprocessor.utils -   Converting sample_data/Quran/026.txt\n",
            "02/02/2021 19:11:43 - INFO - haystack.preprocessor.utils -   Converting sample_data/Quran/053.txt\n",
            "02/02/2021 19:11:43 - INFO - haystack.preprocessor.utils -   Converting sample_data/Quran/093.txt\n",
            "02/02/2021 19:11:43 - INFO - haystack.preprocessor.utils -   Converting sample_data/Quran/033.txt\n",
            "02/02/2021 19:11:43 - INFO - haystack.preprocessor.utils -   Converting sample_data/Quran/046.txt\n",
            "02/02/2021 19:11:43 - INFO - haystack.preprocessor.utils -   Converting sample_data/Quran/039.txt\n",
            "02/02/2021 19:11:43 - INFO - haystack.preprocessor.utils -   Converting sample_data/Quran/073.txt\n",
            "02/02/2021 19:11:43 - INFO - haystack.preprocessor.utils -   Converting sample_data/Quran/081.txt\n",
            "02/02/2021 19:11:43 - INFO - haystack.preprocessor.utils -   Converting sample_data/Quran/071.txt\n",
            "02/02/2021 19:11:43 - INFO - haystack.preprocessor.utils -   Converting sample_data/Quran/051.txt\n",
            "02/02/2021 19:11:43 - INFO - haystack.preprocessor.utils -   Converting sample_data/Quran/091.txt\n",
            "02/02/2021 19:11:43 - INFO - haystack.preprocessor.utils -   Converting sample_data/Quran/009.txt\n",
            "02/02/2021 19:11:43 - INFO - haystack.preprocessor.utils -   Converting sample_data/Quran/094.txt\n",
            "02/02/2021 19:11:43 - INFO - haystack.preprocessor.utils -   Converting sample_data/Quran/060.txt\n",
            "02/02/2021 19:11:43 - INFO - haystack.preprocessor.utils -   Converting sample_data/Quran/100.txt\n",
            "02/02/2021 19:11:43 - INFO - haystack.preprocessor.utils -   Converting sample_data/Quran/031.txt\n",
            "02/02/2021 19:11:43 - INFO - haystack.preprocessor.utils -   Converting sample_data/Quran/050.txt\n",
            "02/02/2021 19:11:43 - INFO - haystack.preprocessor.utils -   Converting sample_data/Quran/082.txt\n",
            "02/02/2021 19:11:43 - INFO - haystack.preprocessor.utils -   Converting sample_data/Quran/087.txt\n",
            "02/02/2021 19:11:43 - INFO - haystack.preprocessor.utils -   Converting sample_data/Quran/001.txt\n",
            "02/02/2021 19:11:43 - INFO - haystack.preprocessor.utils -   Converting sample_data/Quran/113.txt\n",
            "02/02/2021 19:11:43 - INFO - haystack.preprocessor.utils -   Converting sample_data/Quran/027.txt\n",
            "02/02/2021 19:11:43 - INFO - haystack.preprocessor.utils -   Converting sample_data/Quran/072.txt\n",
            "02/02/2021 19:11:43 - INFO - haystack.preprocessor.utils -   Converting sample_data/Quran/096.txt\n",
            "02/02/2021 19:11:43 - INFO - haystack.preprocessor.utils -   Converting sample_data/Quran/007.txt\n",
            "02/02/2021 19:11:43 - INFO - haystack.preprocessor.utils -   Converting sample_data/Quran/065.txt\n",
            "02/02/2021 19:11:43 - INFO - haystack.preprocessor.utils -   Converting sample_data/Quran/086.txt\n",
            "02/02/2021 19:11:43 - INFO - haystack.preprocessor.utils -   Converting sample_data/Quran/036.txt\n",
            "02/02/2021 19:11:43 - INFO - haystack.preprocessor.utils -   Converting sample_data/Quran/095.txt\n",
            "02/02/2021 19:11:43 - INFO - haystack.preprocessor.utils -   Converting sample_data/Quran/040.txt\n",
            "02/02/2021 19:11:43 - INFO - haystack.preprocessor.utils -   Converting sample_data/Quran/006.txt\n",
            "02/02/2021 19:11:43 - INFO - haystack.preprocessor.utils -   Converting sample_data/Quran/106.txt\n",
            "02/02/2021 19:11:43 - INFO - haystack.preprocessor.utils -   Converting sample_data/Quran/028.txt\n",
            "02/02/2021 19:11:43 - INFO - haystack.preprocessor.utils -   Converting sample_data/Quran/015.txt\n",
            "02/02/2021 19:11:43 - INFO - haystack.preprocessor.utils -   Converting sample_data/Quran/029.txt\n",
            "02/02/2021 19:11:43 - INFO - haystack.preprocessor.utils -   Converting sample_data/Quran/041.txt\n",
            "02/02/2021 19:11:43 - INFO - haystack.preprocessor.utils -   Converting sample_data/Quran/063.txt\n",
            "02/02/2021 19:11:43 - INFO - haystack.preprocessor.utils -   Converting sample_data/Quran/099.txt\n",
            "02/02/2021 19:11:43 - INFO - haystack.preprocessor.utils -   Converting sample_data/Quran/062.txt\n",
            "02/02/2021 19:11:43 - INFO - haystack.preprocessor.utils -   Converting sample_data/Quran/058.txt\n",
            "02/02/2021 19:11:43 - INFO - haystack.preprocessor.utils -   Converting sample_data/Quran/056.txt\n",
            "02/02/2021 19:11:43 - INFO - haystack.preprocessor.utils -   Converting sample_data/Quran/055.txt\n",
            "02/02/2021 19:11:43 - INFO - haystack.preprocessor.utils -   Converting sample_data/Quran/089.txt\n",
            "02/02/2021 19:11:43 - INFO - haystack.preprocessor.utils -   Converting sample_data/Quran/030.txt\n",
            "02/02/2021 19:11:43 - INFO - haystack.preprocessor.utils -   Converting sample_data/Quran/061.txt\n",
            "02/02/2021 19:11:43 - INFO - haystack.preprocessor.utils -   Converting sample_data/Quran/034.txt\n",
            "02/02/2021 19:11:43 - INFO - haystack.preprocessor.utils -   Converting sample_data/Quran/057.txt\n",
            "02/02/2021 19:11:43 - INFO - haystack.preprocessor.utils -   Converting sample_data/Quran/111.txt\n",
            "02/02/2021 19:11:43 - INFO - haystack.preprocessor.utils -   Converting sample_data/Quran/048.txt\n",
            "02/02/2021 19:11:43 - INFO - haystack.preprocessor.utils -   Converting sample_data/Quran/066.txt\n",
            "02/02/2021 19:11:43 - INFO - haystack.preprocessor.utils -   Converting sample_data/Quran/035.txt\n",
            "02/02/2021 19:11:43 - INFO - haystack.preprocessor.utils -   Converting sample_data/Quran/105.txt\n",
            "02/02/2021 19:11:43 - INFO - haystack.preprocessor.utils -   Converting sample_data/Quran/079.txt\n",
            "02/02/2021 19:11:43 - INFO - haystack.preprocessor.utils -   Converting sample_data/Quran/110.txt\n",
            "02/02/2021 19:11:43 - INFO - haystack.preprocessor.utils -   Converting sample_data/Quran/054.txt\n",
            "02/02/2021 19:11:43 - INFO - haystack.preprocessor.utils -   Converting sample_data/Quran/109.txt\n",
            "02/02/2021 19:11:43 - INFO - haystack.preprocessor.utils -   Converting sample_data/Quran/092.txt\n",
            "02/02/2021 19:11:43 - INFO - haystack.preprocessor.utils -   Converting sample_data/Quran/043.txt\n",
            "02/02/2021 19:11:43 - INFO - haystack.preprocessor.utils -   Converting sample_data/Quran/037.txt\n",
            "02/02/2021 19:11:43 - INFO - haystack.preprocessor.utils -   Converting sample_data/Quran/080.txt\n",
            "02/02/2021 19:11:43 - INFO - haystack.preprocessor.utils -   Converting sample_data/Quran/002.txt\n",
            "02/02/2021 19:11:43 - INFO - haystack.preprocessor.utils -   Converting sample_data/Quran/103.txt\n",
            "02/02/2021 19:11:43 - INFO - haystack.preprocessor.utils -   Converting sample_data/Quran/075.txt\n",
            "02/02/2021 19:11:43 - INFO - haystack.preprocessor.utils -   Converting sample_data/Quran/077.txt\n"
          ],
          "name": "stderr"
        }
      ]
    },
    {
      "cell_type": "code",
      "metadata": {
        "colab": {
          "base_uri": "https://localhost:8080/"
        },
        "id": "-aINhDZBAUAd",
        "outputId": "0e0d43d0-45df-44bf-f0fb-26f197f0c547"
      },
      "source": [
        "from haystack.retriever.dense import DensePassageRetriever\r\n",
        "retriever = DensePassageRetriever(document_store=document_store,\r\n",
        "                                  query_embedding_model=\"facebook/dpr-question_encoder-single-nq-base\",\r\n",
        "                                  passage_embedding_model=\"facebook/dpr-ctx_encoder-single-nq-base\",\r\n",
        "                                  max_seq_len_query=64,\r\n",
        "                                  max_seq_len_passage=256,\r\n",
        "                                  batch_size=16,\r\n",
        "                                  use_gpu=True,\r\n",
        "                                  embed_title=True,\r\n",
        "                                  use_fast_tokenizers=True)\r\n",
        "# Important: \r\n",
        "# Now that after we have the DPR initialized, we need to call update_embeddings() to iterate over all\r\n",
        "# previously indexed documents and update their embedding representation. \r\n",
        "# While this can be a time consuming operation (depending on corpus size), it only needs to be done once. \r\n",
        "# At query time, we only need to embed the query and compare it the existing doc embeddings which is very fast.\r\n",
        "document_store.update_embeddings(retriever)"
      ],
      "execution_count": 9,
      "outputs": [
        {
          "output_type": "stream",
          "text": [
            "02/02/2021 19:12:01 - INFO - haystack.document_store.faiss -   Updating embeddings for 114 docs...\n"
          ],
          "name": "stderr"
        }
      ]
    },
    {
      "cell_type": "code",
      "metadata": {
        "colab": {
          "base_uri": "https://localhost:8080/"
        },
        "id": "GcSZiw2JAedt",
        "outputId": "0b087278-2caf-4175-9424-3190073f6b5b"
      },
      "source": [
        "# Load a  local model or any of the QA models on\r\n",
        "# Hugging Face's model hub (https://huggingface.co/models)\r\n",
        "\r\n",
        "reader = FARMReader(model_name_or_path=\"deepset/roberta-base-squad2\", use_gpu=True)"
      ],
      "execution_count": 10,
      "outputs": [
        {
          "output_type": "stream",
          "text": [
            "02/02/2021 19:12:03 - INFO - farm.utils -   Using device: CUDA \n",
            "02/02/2021 19:12:03 - INFO - farm.utils -   Number of GPUs: 1\n",
            "02/02/2021 19:12:03 - INFO - farm.utils -   Distributed Training: False\n",
            "02/02/2021 19:12:03 - INFO - farm.utils -   Automatic Mixed Precision: None\n",
            "Some weights of RobertaModel were not initialized from the model checkpoint at deepset/roberta-base-squad2 and are newly initialized: ['roberta.pooler.dense.weight', 'roberta.pooler.dense.bias']\n",
            "You should probably TRAIN this model on a down-stream task to be able to use it for predictions and inference.\n",
            "02/02/2021 19:12:12 - WARNING - farm.utils -   Failed to log params: Changing param values is not allowed. Param with key='prediction_heads' was already logged with value='TextSimilarityHead' for run ID='f72987091e944596a6cd3710496e9501'. Attempted logging new value 'QuestionAnsweringHead'.\n",
            "02/02/2021 19:12:14 - WARNING - farm.utils -   Failed to log params: Changing param values is not allowed. Param with key='processor' was already logged with value='TextSimilarityProcessor' for run ID='f72987091e944596a6cd3710496e9501'. Attempted logging new value 'SquadProcessor'.\n",
            "02/02/2021 19:12:14 - WARNING - farm.utils -   ML Logging is turned off. No parameters, metrics or artifacts will be logged to MLFlow.\n",
            "02/02/2021 19:12:14 - INFO - farm.utils -   Using device: CUDA \n",
            "02/02/2021 19:12:14 - INFO - farm.utils -   Number of GPUs: 1\n",
            "02/02/2021 19:12:14 - INFO - farm.utils -   Distributed Training: False\n",
            "02/02/2021 19:12:14 - INFO - farm.utils -   Automatic Mixed Precision: None\n",
            "02/02/2021 19:12:14 - INFO - farm.infer -   Got ya 2 parallel workers to do inference ...\n",
            "02/02/2021 19:12:14 - INFO - farm.infer -    0    0 \n",
            "02/02/2021 19:12:14 - INFO - farm.infer -   /w\\  /w\\\n",
            "02/02/2021 19:12:14 - INFO - farm.infer -   /'\\  / \\\n",
            "02/02/2021 19:12:14 - INFO - farm.infer -     \n"
          ],
          "name": "stderr"
        }
      ]
    },
    {
      "cell_type": "code",
      "metadata": {
        "colab": {
          "base_uri": "https://localhost:8080/"
        },
        "id": "iZ6tx4r-AfQs",
        "outputId": "c6bcca52-f14a-4a1d-81fb-c3124b9d91fb"
      },
      "source": [
        "finder = Finder(reader, retriever)"
      ],
      "execution_count": 11,
      "outputs": [
        {
          "output_type": "stream",
          "text": [
            "02/02/2021 19:12:14 - WARNING - haystack.finder -   DEPRECATION WARNINGS: \n",
            "            1. The 'Finder' class will be deprecated in the next Haystack release in \n",
            "            favour of a new `Pipeline` class that supports building custom search pipelines using Haystack components\n",
            "            including Retriever, Readers, and Generators.\n",
            "            For more details, please refer to the issue: https://github.com/deepset-ai/haystack/issues/544\n",
            "            2. The `question` parameter in search requests & results is renamed to `query`.\n"
          ],
          "name": "stderr"
        }
      ]
    },
    {
      "cell_type": "code",
      "metadata": {
        "colab": {
          "base_uri": "https://localhost:8080/"
        },
        "id": "9qQECPJ8Ah1V",
        "outputId": "f84aac42-5669-4a46-9c3b-6e285b18990b"
      },
      "source": [
        "# You can configure how many candidates the reader and retriever shall return\r\n",
        "# The higher top_k_retriever, the better (but also the slower) your answers. \r\n",
        "#prediction = finder.get_answers(question=\"Who created the Dothraki vocabulary?\", top_k_retriever=10, top_k_reader=5)\r\n",
        "\r\n",
        "#prediction = finder.get_answers(question=\"Who is the father of Arya Stark?\", top_k_retriever=10, top_k_reader=5)\r\n",
        "#prediction = finder.get_answers(question=\"Who is the sister of Sansa?\", top_k_retriever=10, top_k_reader=5)\r\n",
        "\r\n",
        "prediction = finder.get_answers(question=\"is Honey bee mentioned?\", top_k_retriever=10, top_k_reader=5)\r\n",
        "print_answers(prediction, details=\"minimal\")"
      ],
      "execution_count": 12,
      "outputs": [
        {
          "output_type": "stream",
          "text": [
            "02/02/2021 19:12:14 - WARNING - haystack.finder -   DEPRECATION WARNINGS: \n",
            "            1. The 'Finder' class will be deprecated in the next Haystack release in \n",
            "            favour of a new `Pipeline` class that supports building custom search pipelines using Haystack components\n",
            "            including Retriever, Readers, and Generators.\n",
            "            For more details, please refer to the issue: https://github.com/deepset-ai/haystack/issues/544\n",
            "            2. The `question` parameter in search requests & results is renamed to `query`.\n",
            "02/02/2021 19:12:14 - INFO - haystack.finder -   Got 10 candidates from retriever\n",
            "02/02/2021 19:12:14 - INFO - haystack.finder -   Reader is looking for detailed answer in 76349 chars ...\n"
          ],
          "name": "stderr"
        },
        {
          "output_type": "stream",
          "text": [
            "[   {   'answer': 'All praise belongs to Allah',\n",
            "        'context': 'h he gives secretly and openly. Are they equal in '\n",
            "                   'comparison? All praise belongs to Allah, but most of them '\n",
            "                   'do not know.\\n'\n",
            "                   '76. And Allah cites the examp'},\n",
            "    {   'answer': 'Abraham',\n",
            "        'context': 'gdoers.\"\\n'\n",
            "                   '60. They said, \"We heard a youth mentioning them. He is '\n",
            "                   'called Abraham.\"\\n'\n",
            "                   '61. They said, \"Bring him before the eyes of the people, '\n",
            "                   'so that the'},\n",
            "    {   'answer': 'a youth',\n",
            "        'context': ' gods? He is certainly one of the wrongdoers.\"\\n'\n",
            "                   '60. They said, \"We heard a youth mentioning them. He is '\n",
            "                   'called Abraham.\"\\n'\n",
            "                   '61. They said, \"Bring him befo'},\n",
            "    {   'answer': 'Moses',\n",
            "        'context': ' gave them a noble reputation of truth.\\n'\n",
            "                   '51. And mention in the Scripture Moses. He was dedicated. '\n",
            "                   'He was a messenger and a prophet.\\n'\n",
            "                   '52. And We called '},\n",
            "    {   'answer': 'Call on your partners',\n",
            "        'context': '; it was not us they used to worship.\"\\n'\n",
            "                   '64. And it will be said, \"Call on your partners.\" And they '\n",
            "                   'will call on them, but they will not respond to them'}]\n"
          ],
          "name": "stdout"
        }
      ]
    },
    {
      "cell_type": "code",
      "metadata": {
        "id": "_TXRS30ZAoGx"
      },
      "source": [
        "#print_answers(prediction, details=\"minimal\")"
      ],
      "execution_count": 13,
      "outputs": []
    }
  ]
}