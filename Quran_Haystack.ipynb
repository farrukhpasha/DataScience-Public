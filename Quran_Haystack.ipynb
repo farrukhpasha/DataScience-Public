{
  "nbformat": 4,
  "nbformat_minor": 0,
  "metadata": {
    "colab": {
      "name": "Quran-Haystack.ipynb",
      "provenance": [],
      "collapsed_sections": [],
      "toc_visible": true,
      "authorship_tag": "ABX9TyOgZmOUJjCxJLc5r0NXDvbz",
      "include_colab_link": true
    },
    "kernelspec": {
      "name": "python3",
      "display_name": "Python 3"
    },
    "accelerator": "GPU"
  },
  "cells": [
    {
      "cell_type": "markdown",
      "metadata": {
        "id": "view-in-github",
        "colab_type": "text"
      },
      "source": [
        "<a href=\"https://colab.research.google.com/github/farrukhpasha/DataScience-Public/blob/main/Quran_Haystack.ipynb\" target=\"_parent\"><img src=\"https://colab.research.google.com/assets/colab-badge.svg\" alt=\"Open In Colab\"/></a>"
      ]
    },
    {
      "cell_type": "markdown",
      "metadata": {
        "id": "8dcIRMxIJ_4L"
      },
      "source": [
        "Enable the GPU Support and make sure the GPU is enabled."
      ]
    },
    {
      "cell_type": "code",
      "metadata": {
        "colab": {
          "base_uri": "https://localhost:8080/"
        },
        "id": "QznFzefjru-j",
        "outputId": "c3d0371e-7c93-4e88-d6ab-649bf66ec982"
      },
      "source": [
        "!nvidia-smi"
      ],
      "execution_count": null,
      "outputs": [
        {
          "output_type": "stream",
          "text": [
            "Tue Feb  2 19:11:27 2021       \n",
            "+-----------------------------------------------------------------------------+\n",
            "| NVIDIA-SMI 460.39       Driver Version: 418.67       CUDA Version: 10.1     |\n",
            "|-------------------------------+----------------------+----------------------+\n",
            "| GPU  Name        Persistence-M| Bus-Id        Disp.A | Volatile Uncorr. ECC |\n",
            "| Fan  Temp  Perf  Pwr:Usage/Cap|         Memory-Usage | GPU-Util  Compute M. |\n",
            "|                               |                      |               MIG M. |\n",
            "|===============================+======================+======================|\n",
            "|   0  Tesla T4            Off  | 00000000:00:04.0 Off |                    0 |\n",
            "| N/A   63C    P8    10W /  70W |      0MiB / 15079MiB |      0%      Default |\n",
            "|                               |                      |                 ERR! |\n",
            "+-------------------------------+----------------------+----------------------+\n",
            "                                                                               \n",
            "+-----------------------------------------------------------------------------+\n",
            "| Processes:                                                                  |\n",
            "|  GPU   GI   CI        PID   Type   Process name                  GPU Memory |\n",
            "|        ID   ID                                                   Usage      |\n",
            "|=============================================================================|\n",
            "|  No running processes found                                                 |\n",
            "+-----------------------------------------------------------------------------+\n"
          ],
          "name": "stdout"
        }
      ]
    },
    {
      "cell_type": "markdown",
      "metadata": {
        "id": "KTzaA-PrryIz"
      },
      "source": [
        "# Install the latest master of Haystack\r\n"
      ]
    },
    {
      "cell_type": "code",
      "metadata": {
        "colab": {
          "base_uri": "https://localhost:8080/"
        },
        "id": "w-GcKdAjxrRu",
        "outputId": "43b0ea4c-97c3-46d4-8c6e-e41b6811a7b9"
      },
      "source": [
        "# Install the latest master of Haystack\r\n",
        "!pip install git+https://github.com/deepset-ai/haystack.git\r\n",
        "!pip install urllib3==1.25.4\r\n",
        "!pip install torch==1.6.0+cu101 torchvision==0.6.1+cu101 -f https://download.pytorch.org/whl/torch_stable.html"
      ],
      "execution_count": null,
      "outputs": [
        {
          "output_type": "stream",
          "text": [
            "Collecting git+https://github.com/deepset-ai/haystack.git\n",
            "  Cloning https://github.com/deepset-ai/haystack.git to /tmp/pip-req-build-apmawq1f\n",
            "  Running command git clone -q https://github.com/deepset-ai/haystack.git /tmp/pip-req-build-apmawq1f\n",
            "Collecting farm==0.6.2\n",
            "\u001b[?25l  Downloading https://files.pythonhosted.org/packages/5b/3d/91c184813b8205c697c13117154f3216f01709291155cc9ee88628cb63d2/farm-0.6.2-py3-none-any.whl (207kB)\n",
            "\u001b[K     |████████████████████████████████| 215kB 16.7MB/s \n",
            "\u001b[?25hCollecting fastapi\n",
            "\u001b[?25l  Downloading https://files.pythonhosted.org/packages/9f/33/1b643f650688ad368983bbaf3b0658438038ea84d775dd37393d826c3833/fastapi-0.63.0-py3-none-any.whl (50kB)\n",
            "\u001b[K     |████████████████████████████████| 51kB 8.2MB/s \n",
            "\u001b[?25hCollecting uvicorn\n",
            "\u001b[?25l  Downloading https://files.pythonhosted.org/packages/2e/02/1e2520f6999e793d5bc5c15d8057b2e829d16a148e41199e0ae519653fa0/uvicorn-0.13.3-py3-none-any.whl (45kB)\n",
            "\u001b[K     |████████████████████████████████| 51kB 6.4MB/s \n",
            "\u001b[?25hCollecting gunicorn\n",
            "\u001b[?25l  Downloading https://files.pythonhosted.org/packages/69/ca/926f7cd3a2014b16870086b2d0fdc84a9e49473c68a8dff8b57f7c156f43/gunicorn-20.0.4-py2.py3-none-any.whl (77kB)\n",
            "\u001b[K     |████████████████████████████████| 81kB 9.4MB/s \n",
            "\u001b[?25hRequirement already satisfied: pandas in /usr/local/lib/python3.6/dist-packages (from farm-haystack==0.7.0) (1.1.5)\n",
            "Requirement already satisfied: sklearn in /usr/local/lib/python3.6/dist-packages (from farm-haystack==0.7.0) (0.0)\n",
            "Collecting elasticsearch<=7.10,>=7.7\n",
            "\u001b[?25l  Downloading https://files.pythonhosted.org/packages/14/ba/f950bdd9164fb2bbbe5093700162234fbe61f446fe2300a8993761c132ca/elasticsearch-7.10.0-py2.py3-none-any.whl (321kB)\n",
            "\u001b[K     |████████████████████████████████| 327kB 28.8MB/s \n",
            "\u001b[?25hCollecting elastic-apm\n",
            "\u001b[?25l  Downloading https://files.pythonhosted.org/packages/b6/25/c1d8f76b7788fae7c6c80f8b17eff305ecf83a6e71404795afd070ae80ca/elastic_apm-6.0.0-cp36-cp36m-manylinux2010_x86_64.whl (317kB)\n",
            "\u001b[K     |████████████████████████████████| 327kB 58.1MB/s \n",
            "\u001b[?25hCollecting tox\n",
            "\u001b[?25l  Downloading https://files.pythonhosted.org/packages/4f/e2/ab817be1680bc6d39c24c6cc05253d1bfa3e8b57d034352be266ea95a5d8/tox-3.21.4-py2.py3-none-any.whl (84kB)\n",
            "\u001b[K     |████████████████████████████████| 92kB 14.3MB/s \n",
            "\u001b[?25hRequirement already satisfied: coverage in /usr/local/lib/python3.6/dist-packages (from farm-haystack==0.7.0) (3.7.1)\n",
            "Collecting langdetect\n",
            "\u001b[?25l  Downloading https://files.pythonhosted.org/packages/56/a3/8407c1e62d5980188b4acc45ef3d94b933d14a2ebc9ef3505f22cf772570/langdetect-1.0.8.tar.gz (981kB)\n",
            "\u001b[K     |████████████████████████████████| 983kB 58.3MB/s \n",
            "\u001b[?25hCollecting python-multipart\n",
            "  Downloading https://files.pythonhosted.org/packages/46/40/a933ac570bf7aad12a298fc53458115cc74053474a72fbb8201d7dc06d3d/python-multipart-0.0.5.tar.gz\n",
            "Collecting python-docx\n",
            "\u001b[?25l  Downloading https://files.pythonhosted.org/packages/e4/83/c66a1934ed5ed8ab1dbb9931f1779079f8bca0f6bbc5793c06c4b5e7d671/python-docx-0.8.10.tar.gz (5.5MB)\n",
            "\u001b[K     |████████████████████████████████| 5.5MB 52.4MB/s \n",
            "\u001b[?25hCollecting sqlalchemy_utils\n",
            "\u001b[?25l  Downloading https://files.pythonhosted.org/packages/14/68/e5301c4c960c79a32333b8805e52cb69d3d237aa869a773b4157ccb3eb26/SQLAlchemy-Utils-0.36.8.tar.gz (138kB)\n",
            "\u001b[K     |████████████████████████████████| 143kB 60.5MB/s \n",
            "\u001b[?25hCollecting tika\n",
            "  Downloading https://files.pythonhosted.org/packages/96/07/244fbb9c74c0de8a3745cc9f3f496077a29f6418c7cbd90d68fd799574cb/tika-1.24.tar.gz\n",
            "Collecting httptools\n",
            "\u001b[?25l  Downloading https://files.pythonhosted.org/packages/b1/a6/dc1e7e8f4049ab70d52c9690ec10652e268ab2542853033cc1d539594102/httptools-0.1.1-cp36-cp36m-manylinux1_x86_64.whl (216kB)\n",
            "\u001b[K     |████████████████████████████████| 225kB 58.3MB/s \n",
            "\u001b[?25hRequirement already satisfied: nltk in /usr/local/lib/python3.6/dist-packages (from farm-haystack==0.7.0) (3.2.5)\n",
            "Requirement already satisfied: more_itertools in /usr/local/lib/python3.6/dist-packages (from farm-haystack==0.7.0) (8.6.0)\n",
            "Requirement already satisfied: networkx in /usr/local/lib/python3.6/dist-packages (from farm-haystack==0.7.0) (2.5)\n",
            "Collecting pymilvus\n",
            "\u001b[?25l  Downloading https://files.pythonhosted.org/packages/ca/16/18097103226209539a9af15dca9e50927f9b39e02d76d862ea07db2366de/pymilvus-0.4.0-py3-none-any.whl (60kB)\n",
            "\u001b[K     |████████████████████████████████| 61kB 10.4MB/s \n",
            "\u001b[?25hCollecting psycopg2-binary\n",
            "\u001b[?25l  Downloading https://files.pythonhosted.org/packages/f2/1b/720b36697158113ca1b2221a8e96a470088ccf3770d182214689d1a96a07/psycopg2_binary-2.8.6-cp36-cp36m-manylinux1_x86_64.whl (3.0MB)\n",
            "\u001b[K     |████████████████████████████████| 3.0MB 51.3MB/s \n",
            "\u001b[?25hCollecting faiss-cpu==1.6.3\n",
            "\u001b[?25l  Downloading https://files.pythonhosted.org/packages/1d/84/9de38703486d9f00b1a63590887a318d08c52f10f768968bd7626aee75da/faiss_cpu-1.6.3-cp36-cp36m-manylinux2010_x86_64.whl (7.2MB)\n",
            "\u001b[K     |████████████████████████████████| 7.2MB 23.4MB/s \n",
            "\u001b[?25hCollecting uvloop\n",
            "\u001b[?25l  Downloading https://files.pythonhosted.org/packages/41/48/586225bbb02d3bdca475b17e4be5ce5b3f09da2d6979f359916c1592a687/uvloop-0.14.0-cp36-cp36m-manylinux2010_x86_64.whl (3.9MB)\n",
            "\u001b[K     |████████████████████████████████| 3.9MB 46.7MB/s \n",
            "\u001b[?25hRequirement already satisfied: torch<1.8,>1.5 in /usr/local/lib/python3.6/dist-packages (from farm==0.6.2->farm-haystack==0.7.0) (1.7.0+cu101)\n",
            "Requirement already satisfied: scipy>=1.3.2 in /usr/local/lib/python3.6/dist-packages (from farm==0.6.2->farm-haystack==0.7.0) (1.4.1)\n",
            "Requirement already satisfied: requests in /usr/local/lib/python3.6/dist-packages (from farm==0.6.2->farm-haystack==0.7.0) (2.23.0)\n",
            "Collecting mlflow<=1.13.1\n",
            "\u001b[?25l  Downloading https://files.pythonhosted.org/packages/4c/4d/a6a4460e214842377dbc43d3e83bf976d564f7976822a9351adde60af44b/mlflow-1.13.1-py3-none-any.whl (14.1MB)\n",
            "\u001b[K     |████████████████████████████████| 14.2MB 126kB/s \n",
            "\u001b[?25hCollecting seqeval\n",
            "\u001b[?25l  Downloading https://files.pythonhosted.org/packages/9d/2d/233c79d5b4e5ab1dbf111242299153f3caddddbb691219f363ad55ce783d/seqeval-1.2.2.tar.gz (43kB)\n",
            "\u001b[K     |████████████████████████████████| 51kB 9.2MB/s \n",
            "\u001b[?25hCollecting dotmap\n",
            "  Downloading https://files.pythonhosted.org/packages/17/6f/c94adbb0e6d418ededbf1082a3067f178fb012573b960d446e5655e6fbe1/dotmap-1.3.23-py3-none-any.whl\n",
            "Requirement already satisfied: dill in /usr/local/lib/python3.6/dist-packages (from farm==0.6.2->farm-haystack==0.7.0) (0.3.3)\n",
            "Collecting flask-cors\n",
            "  Downloading https://files.pythonhosted.org/packages/db/84/901e700de86604b1c4ef4b57110d4e947c218b9997adf5d38fa7da493bce/Flask_Cors-3.0.10-py2.py3-none-any.whl\n",
            "Collecting transformers==4.1.1\n",
            "\u001b[?25l  Downloading https://files.pythonhosted.org/packages/50/0c/7d5950fcd80b029be0a8891727ba21e0cd27692c407c51261c3c921f6da3/transformers-4.1.1-py3-none-any.whl (1.5MB)\n",
            "\u001b[K     |████████████████████████████████| 1.5MB 49.4MB/s \n",
            "\u001b[?25hRequirement already satisfied: setuptools in /usr/local/lib/python3.6/dist-packages (from farm==0.6.2->farm-haystack==0.7.0) (53.0.0)\n",
            "Collecting Werkzeug==0.16.1\n",
            "\u001b[?25l  Downloading https://files.pythonhosted.org/packages/c2/e4/a859d2fe516f466642fa5c6054fd9646271f9da26b0cac0d2f37fc858c8f/Werkzeug-0.16.1-py2.py3-none-any.whl (327kB)\n",
            "\u001b[K     |████████████████████████████████| 327kB 61.9MB/s \n",
            "\u001b[?25hRequirement already satisfied: flask in /usr/local/lib/python3.6/dist-packages (from farm==0.6.2->farm-haystack==0.7.0) (1.1.2)\n",
            "Requirement already satisfied: tqdm in /usr/local/lib/python3.6/dist-packages (from farm==0.6.2->farm-haystack==0.7.0) (4.41.1)\n",
            "Requirement already satisfied: psutil in /usr/local/lib/python3.6/dist-packages (from farm==0.6.2->farm-haystack==0.7.0) (5.4.8)\n",
            "Requirement already satisfied: wheel in /usr/local/lib/python3.6/dist-packages (from farm==0.6.2->farm-haystack==0.7.0) (0.36.2)\n",
            "Collecting sentencepiece\n",
            "\u001b[?25l  Downloading https://files.pythonhosted.org/packages/14/67/e42bd1181472c95c8cda79305df848264f2a7f62740995a46945d9797b67/sentencepiece-0.1.95-cp36-cp36m-manylinux2014_x86_64.whl (1.2MB)\n",
            "\u001b[K     |████████████████████████████████| 1.2MB 50.0MB/s \n",
            "\u001b[?25hCollecting flask-restplus\n",
            "\u001b[?25l  Downloading https://files.pythonhosted.org/packages/c2/a6/b17c848771f96ad039ad9e3ea275e842a16c39c4f3eb9f60ee330b20b6c2/flask_restplus-0.13.0-py2.py3-none-any.whl (2.5MB)\n",
            "\u001b[K     |████████████████████████████████| 2.5MB 55.1MB/s \n",
            "\u001b[?25hCollecting boto3\n",
            "\u001b[?25l  Downloading https://files.pythonhosted.org/packages/bc/c0/f0456884617fbf3fc9936139677396f22f41af19230213591959b3e6c9b4/boto3-1.17.0-py2.py3-none-any.whl (130kB)\n",
            "\u001b[K     |████████████████████████████████| 133kB 61.6MB/s \n",
            "\u001b[?25hCollecting pydantic<2.0.0,>=1.0.0\n",
            "\u001b[?25l  Downloading https://files.pythonhosted.org/packages/52/ea/fae9f69b6e56407961318e8c73e203097a97c7bd71b30bf1b4f5eb448f28/pydantic-1.7.3-cp36-cp36m-manylinux2014_x86_64.whl (9.2MB)\n",
            "\u001b[K     |████████████████████████████████| 9.2MB 47.9MB/s \n",
            "\u001b[?25hCollecting starlette==0.13.6\n",
            "\u001b[?25l  Downloading https://files.pythonhosted.org/packages/c5/a4/c9e228d7d47044ce4c83ba002f28ff479e542455f0499198a3f77c94f564/starlette-0.13.6-py3-none-any.whl (59kB)\n",
            "\u001b[K     |████████████████████████████████| 61kB 9.6MB/s \n",
            "\u001b[?25hCollecting h11>=0.8\n",
            "\u001b[?25l  Downloading https://files.pythonhosted.org/packages/60/0f/7a0eeea938eaf61074f29fed9717f2010e8d0e0905d36b38d3275a1e4622/h11-0.12.0-py3-none-any.whl (54kB)\n",
            "\u001b[K     |████████████████████████████████| 61kB 10.8MB/s \n",
            "\u001b[?25hRequirement already satisfied: click==7.* in /usr/local/lib/python3.6/dist-packages (from uvicorn->farm-haystack==0.7.0) (7.1.2)\n",
            "Requirement already satisfied: typing-extensions; python_version < \"3.8\" in /usr/local/lib/python3.6/dist-packages (from uvicorn->farm-haystack==0.7.0) (3.7.4.3)\n",
            "Requirement already satisfied: numpy>=1.15.4 in /usr/local/lib/python3.6/dist-packages (from pandas->farm-haystack==0.7.0) (1.19.5)\n",
            "Requirement already satisfied: python-dateutil>=2.7.3 in /usr/local/lib/python3.6/dist-packages (from pandas->farm-haystack==0.7.0) (2.8.1)\n",
            "Requirement already satisfied: pytz>=2017.2 in /usr/local/lib/python3.6/dist-packages (from pandas->farm-haystack==0.7.0) (2018.9)\n",
            "Requirement already satisfied: scikit-learn in /usr/local/lib/python3.6/dist-packages (from sklearn->farm-haystack==0.7.0) (0.22.2.post1)\n",
            "Requirement already satisfied: certifi in /usr/local/lib/python3.6/dist-packages (from elasticsearch<=7.10,>=7.7->farm-haystack==0.7.0) (2020.12.5)\n",
            "Requirement already satisfied: urllib3<2,>=1.21.1 in /usr/local/lib/python3.6/dist-packages (from elasticsearch<=7.10,>=7.7->farm-haystack==0.7.0) (1.24.3)\n",
            "Requirement already satisfied: importlib-metadata>=0.12; python_version < \"3.8\" in /usr/local/lib/python3.6/dist-packages (from tox->farm-haystack==0.7.0) (3.4.0)\n",
            "Collecting virtualenv!=20.0.0,!=20.0.1,!=20.0.2,!=20.0.3,!=20.0.4,!=20.0.5,!=20.0.6,!=20.0.7,>=16.0.0\n",
            "\u001b[?25l  Downloading https://files.pythonhosted.org/packages/9f/fb/7423637e48cffbb2e567ca113d2b05068f8b457dde998ab487adf7386c86/virtualenv-20.4.2-py2.py3-none-any.whl (7.2MB)\n",
            "\u001b[K     |████████████████████████████████| 7.2MB 51.3MB/s \n",
            "\u001b[?25hRequirement already satisfied: six>=1.14.0 in /usr/local/lib/python3.6/dist-packages (from tox->farm-haystack==0.7.0) (1.15.0)\n",
            "Requirement already satisfied: filelock>=3.0.0 in /usr/local/lib/python3.6/dist-packages (from tox->farm-haystack==0.7.0) (3.0.12)\n",
            "Collecting pluggy>=0.12.0\n",
            "  Downloading https://files.pythonhosted.org/packages/a0/28/85c7aa31b80d150b772fbe4a229487bc6644da9ccb7e427dd8cc60cb8a62/pluggy-0.13.1-py2.py3-none-any.whl\n",
            "Requirement already satisfied: packaging>=14 in /usr/local/lib/python3.6/dist-packages (from tox->farm-haystack==0.7.0) (20.8)\n",
            "Requirement already satisfied: py>=1.4.17 in /usr/local/lib/python3.6/dist-packages (from tox->farm-haystack==0.7.0) (1.10.0)\n",
            "Requirement already satisfied: toml>=0.9.4 in /usr/local/lib/python3.6/dist-packages (from tox->farm-haystack==0.7.0) (0.10.2)\n",
            "Requirement already satisfied: lxml>=2.3.2 in /usr/local/lib/python3.6/dist-packages (from python-docx->farm-haystack==0.7.0) (4.2.6)\n",
            "Requirement already satisfied: SQLAlchemy>=1.0 in /usr/local/lib/python3.6/dist-packages (from sqlalchemy_utils->farm-haystack==0.7.0) (1.3.22)\n",
            "Requirement already satisfied: decorator>=4.3.0 in /usr/local/lib/python3.6/dist-packages (from networkx->farm-haystack==0.7.0) (4.4.2)\n",
            "Collecting grpcio-tools>=1.22.0\n",
            "\u001b[?25l  Downloading https://files.pythonhosted.org/packages/d2/21/cf830ed660935675839cee6899e70d6e5981390bf4d4f38cd5de07005ac3/grpcio_tools-1.35.0-cp36-cp36m-manylinux2014_x86_64.whl (2.5MB)\n",
            "\u001b[K     |████████████████████████████████| 2.5MB 55.8MB/s \n",
            "\u001b[?25hCollecting ujson>=1.35\n",
            "\u001b[?25l  Downloading https://files.pythonhosted.org/packages/8d/54/2a618356e54282e3f4fa0745cbddeed104ed5ff2930c98f2d9dfa9677af8/ujson-4.0.2-cp36-cp36m-manylinux1_x86_64.whl (179kB)\n",
            "\u001b[K     |████████████████████████████████| 184kB 64.8MB/s \n",
            "\u001b[?25hRequirement already satisfied: grpcio>=1.22.0 in /usr/local/lib/python3.6/dist-packages (from pymilvus->farm-haystack==0.7.0) (1.32.0)\n",
            "Requirement already satisfied: dataclasses in /usr/local/lib/python3.6/dist-packages (from torch<1.8,>1.5->farm==0.6.2->farm-haystack==0.7.0) (0.8)\n",
            "Requirement already satisfied: future in /usr/local/lib/python3.6/dist-packages (from torch<1.8,>1.5->farm==0.6.2->farm-haystack==0.7.0) (0.16.0)\n",
            "Requirement already satisfied: idna<3,>=2.5 in /usr/local/lib/python3.6/dist-packages (from requests->farm==0.6.2->farm-haystack==0.7.0) (2.10)\n",
            "Requirement already satisfied: chardet<4,>=3.0.2 in /usr/local/lib/python3.6/dist-packages (from requests->farm==0.6.2->farm-haystack==0.7.0) (3.0.4)\n",
            "Requirement already satisfied: sqlparse>=0.3.1 in /usr/local/lib/python3.6/dist-packages (from mlflow<=1.13.1->farm==0.6.2->farm-haystack==0.7.0) (0.4.1)\n",
            "Collecting gitpython>=2.1.0\n",
            "\u001b[?25l  Downloading https://files.pythonhosted.org/packages/d7/cb/ec98155c501b68dcb11314c7992cd3df6dce193fd763084338a117967d53/GitPython-3.1.12-py3-none-any.whl (159kB)\n",
            "\u001b[K     |████████████████████████████████| 163kB 61.4MB/s \n",
            "\u001b[?25hCollecting alembic<=1.4.1\n",
            "\u001b[?25l  Downloading https://files.pythonhosted.org/packages/e0/e9/359dbb77c35c419df0aedeb1d53e71e7e3f438ff64a8fdb048c907404de3/alembic-1.4.1.tar.gz (1.1MB)\n",
            "\u001b[K     |████████████████████████████████| 1.1MB 53.7MB/s \n",
            "\u001b[?25hCollecting docker>=4.0.0\n",
            "\u001b[?25l  Downloading https://files.pythonhosted.org/packages/9f/a5/eec74d8d1016e6c2042ba31ca6fba3bba520e27d8a061e82bccd36bd64ef/docker-4.4.1-py2.py3-none-any.whl (146kB)\n",
            "\u001b[K     |████████████████████████████████| 153kB 59.2MB/s \n",
            "\u001b[?25hCollecting querystring-parser\n",
            "  Downloading https://files.pythonhosted.org/packages/88/6b/572b2590fd55114118bf08bde63c0a421dcc82d593700f3e2ad89908a8a9/querystring_parser-1.2.4-py2.py3-none-any.whl\n",
            "Requirement already satisfied: cloudpickle in /usr/local/lib/python3.6/dist-packages (from mlflow<=1.13.1->farm==0.6.2->farm-haystack==0.7.0) (1.3.0)\n",
            "Requirement already satisfied: protobuf>=3.6.0 in /usr/local/lib/python3.6/dist-packages (from mlflow<=1.13.1->farm==0.6.2->farm-haystack==0.7.0) (3.12.4)\n",
            "Requirement already satisfied: entrypoints in /usr/local/lib/python3.6/dist-packages (from mlflow<=1.13.1->farm==0.6.2->farm-haystack==0.7.0) (0.3)\n",
            "Collecting azure-storage-blob>=12.0.0\n",
            "\u001b[?25l  Downloading https://files.pythonhosted.org/packages/8e/00/6772472a99cd0a5e74e4e90f87947fa041b37981a3ff93d883cbc450518d/azure_storage_blob-12.7.1-py2.py3-none-any.whl (339kB)\n",
            "\u001b[K     |████████████████████████████████| 348kB 64.1MB/s \n",
            "\u001b[?25hCollecting databricks-cli>=0.8.7\n",
            "\u001b[?25l  Downloading https://files.pythonhosted.org/packages/40/88/ae1f78cf582b707c605c77df49b4c8786a4465edc51adb25d2f98ef4c4de/databricks-cli-0.14.1.tar.gz (54kB)\n",
            "\u001b[K     |████████████████████████████████| 61kB 10.6MB/s \n",
            "\u001b[?25hCollecting prometheus-flask-exporter\n",
            "  Downloading https://files.pythonhosted.org/packages/4c/d5/8a046d683c2cc084b6a502812827ede69b1064f95d93f94b83f809b21723/prometheus_flask_exporter-0.18.1.tar.gz\n",
            "Requirement already satisfied: pyyaml in /usr/local/lib/python3.6/dist-packages (from mlflow<=1.13.1->farm==0.6.2->farm-haystack==0.7.0) (3.13)\n",
            "Collecting sacremoses\n",
            "\u001b[?25l  Downloading https://files.pythonhosted.org/packages/7d/34/09d19aff26edcc8eb2a01bed8e98f13a1537005d31e95233fd48216eed10/sacremoses-0.0.43.tar.gz (883kB)\n",
            "\u001b[K     |████████████████████████████████| 890kB 57.2MB/s \n",
            "\u001b[?25hCollecting tokenizers==0.9.4\n",
            "\u001b[?25l  Downloading https://files.pythonhosted.org/packages/0f/1c/e789a8b12e28be5bc1ce2156cf87cb522b379be9cadc7ad8091a4cc107c4/tokenizers-0.9.4-cp36-cp36m-manylinux2010_x86_64.whl (2.9MB)\n",
            "\u001b[K     |████████████████████████████████| 2.9MB 54.5MB/s \n",
            "\u001b[?25hRequirement already satisfied: regex!=2019.12.17 in /usr/local/lib/python3.6/dist-packages (from transformers==4.1.1->farm==0.6.2->farm-haystack==0.7.0) (2019.12.20)\n",
            "Requirement already satisfied: itsdangerous>=0.24 in /usr/local/lib/python3.6/dist-packages (from flask->farm==0.6.2->farm-haystack==0.7.0) (1.1.0)\n",
            "Requirement already satisfied: Jinja2>=2.10.1 in /usr/local/lib/python3.6/dist-packages (from flask->farm==0.6.2->farm-haystack==0.7.0) (2.11.2)\n",
            "Collecting aniso8601>=0.82\n",
            "\u001b[?25l  Downloading https://files.pythonhosted.org/packages/2c/09/c26ecac7a5e187db69380e66cbad27f8d53ae98b3d5188af08fdd5e34d9f/aniso8601-8.1.1-py2.py3-none-any.whl (44kB)\n",
            "\u001b[K     |████████████████████████████████| 51kB 9.2MB/s \n",
            "\u001b[?25hRequirement already satisfied: jsonschema in /usr/local/lib/python3.6/dist-packages (from flask-restplus->farm==0.6.2->farm-haystack==0.7.0) (2.6.0)\n",
            "Collecting jmespath<1.0.0,>=0.7.1\n",
            "  Downloading https://files.pythonhosted.org/packages/07/cb/5f001272b6faeb23c1c9e0acc04d48eaaf5c862c17709d20e3469c6e0139/jmespath-0.10.0-py2.py3-none-any.whl\n",
            "Collecting s3transfer<0.4.0,>=0.3.0\n",
            "\u001b[?25l  Downloading https://files.pythonhosted.org/packages/ea/43/4b4a1b26eb03a429a4c37ca7fdf369d938bd60018fc194e94b8379b0c77c/s3transfer-0.3.4-py2.py3-none-any.whl (69kB)\n",
            "\u001b[K     |████████████████████████████████| 71kB 10.6MB/s \n",
            "\u001b[?25hCollecting botocore<1.21.0,>=1.20.0\n",
            "\u001b[?25l  Downloading https://files.pythonhosted.org/packages/81/99/87db6e649cd4a2d24936f65723052931ce195e46162c459f96e622536298/botocore-1.20.0-py2.py3-none-any.whl (7.2MB)\n",
            "\u001b[K     |████████████████████████████████| 7.2MB 47.3MB/s \n",
            "\u001b[?25hRequirement already satisfied: joblib>=0.11 in /usr/local/lib/python3.6/dist-packages (from scikit-learn->sklearn->farm-haystack==0.7.0) (1.0.0)\n",
            "Requirement already satisfied: zipp>=0.5 in /usr/local/lib/python3.6/dist-packages (from importlib-metadata>=0.12; python_version < \"3.8\"->tox->farm-haystack==0.7.0) (3.4.0)\n",
            "Collecting distlib<1,>=0.3.1\n",
            "\u001b[?25l  Downloading https://files.pythonhosted.org/packages/f5/0a/490fa011d699bb5a5f3a0cf57de82237f52a6db9d40f33c53b2736c9a1f9/distlib-0.3.1-py2.py3-none-any.whl (335kB)\n",
            "\u001b[K     |████████████████████████████████| 337kB 47.9MB/s \n",
            "\u001b[?25hRequirement already satisfied: appdirs<2,>=1.4.3 in /usr/local/lib/python3.6/dist-packages (from virtualenv!=20.0.0,!=20.0.1,!=20.0.2,!=20.0.3,!=20.0.4,!=20.0.5,!=20.0.6,!=20.0.7,>=16.0.0->tox->farm-haystack==0.7.0) (1.4.4)\n",
            "Requirement already satisfied: importlib-resources>=1.0; python_version < \"3.7\" in /usr/local/lib/python3.6/dist-packages (from virtualenv!=20.0.0,!=20.0.1,!=20.0.2,!=20.0.3,!=20.0.4,!=20.0.5,!=20.0.6,!=20.0.7,>=16.0.0->tox->farm-haystack==0.7.0) (5.1.0)\n",
            "Requirement already satisfied: pyparsing>=2.0.2 in /usr/local/lib/python3.6/dist-packages (from packaging>=14->tox->farm-haystack==0.7.0) (2.4.7)\n",
            "Collecting gitdb<5,>=4.0.1\n",
            "\u001b[?25l  Downloading https://files.pythonhosted.org/packages/48/11/d1800bca0a3bae820b84b7d813ad1eff15a48a64caea9c823fc8c1b119e8/gitdb-4.0.5-py3-none-any.whl (63kB)\n",
            "\u001b[K     |████████████████████████████████| 71kB 12.9MB/s \n",
            "\u001b[?25hCollecting Mako\n",
            "\u001b[?25l  Downloading https://files.pythonhosted.org/packages/5c/db/2d2d88b924aa4674a080aae83b59ea19d593250bfe5ed789947c21736785/Mako-1.1.4.tar.gz (479kB)\n",
            "\u001b[K     |████████████████████████████████| 481kB 61.3MB/s \n",
            "\u001b[?25hCollecting python-editor>=0.3\n",
            "  Downloading https://files.pythonhosted.org/packages/c6/d3/201fc3abe391bbae6606e6f1d598c15d367033332bd54352b12f35513717/python_editor-1.0.4-py3-none-any.whl\n",
            "Collecting websocket-client>=0.32.0\n",
            "\u001b[?25l  Downloading https://files.pythonhosted.org/packages/4c/5f/f61b420143ed1c8dc69f9eaec5ff1ac36109d52c80de49d66e0c36c3dfdf/websocket_client-0.57.0-py2.py3-none-any.whl (200kB)\n",
            "\u001b[K     |████████████████████████████████| 204kB 59.6MB/s \n",
            "\u001b[?25hCollecting cryptography>=2.1.4\n",
            "\u001b[?25l  Downloading https://files.pythonhosted.org/packages/c9/de/7054df0620b5411ba45480f0261e1fb66a53f3db31b28e3aa52c026e72d9/cryptography-3.3.1-cp36-abi3-manylinux2010_x86_64.whl (2.6MB)\n",
            "\u001b[K     |████████████████████████████████| 2.6MB 43.9MB/s \n",
            "\u001b[?25hCollecting azure-core<2.0.0,>=1.10.0\n",
            "\u001b[?25l  Downloading https://files.pythonhosted.org/packages/12/9e/6bb67fe85f6a89d71f50c86a0da778a5064f749a485ed9ba498067034227/azure_core-1.10.0-py2.py3-none-any.whl (125kB)\n",
            "\u001b[K     |████████████████████████████████| 133kB 61.3MB/s \n",
            "\u001b[?25hCollecting msrest>=0.6.18\n",
            "\u001b[?25l  Downloading https://files.pythonhosted.org/packages/e8/cc/6c96bfb3d3cf4c3bdedfa6b46503223f4c2a4fa388377697e0f8082a4fed/msrest-0.6.21-py2.py3-none-any.whl (85kB)\n",
            "\u001b[K     |████████████████████████████████| 92kB 13.4MB/s \n",
            "\u001b[?25hRequirement already satisfied: tabulate>=0.7.7 in /usr/local/lib/python3.6/dist-packages (from databricks-cli>=0.8.7->mlflow<=1.13.1->farm==0.6.2->farm-haystack==0.7.0) (0.8.7)\n",
            "Requirement already satisfied: prometheus_client in /usr/local/lib/python3.6/dist-packages (from prometheus-flask-exporter->mlflow<=1.13.1->farm==0.6.2->farm-haystack==0.7.0) (0.9.0)\n",
            "Requirement already satisfied: MarkupSafe>=0.23 in /usr/local/lib/python3.6/dist-packages (from Jinja2>=2.10.1->flask->farm==0.6.2->farm-haystack==0.7.0) (1.1.1)\n",
            "Collecting smmap<4,>=3.0.1\n",
            "  Downloading https://files.pythonhosted.org/packages/d5/1e/6130925131f639b2acde0f7f18b73e33ce082ff2d90783c436b52040af5a/smmap-3.0.5-py2.py3-none-any.whl\n",
            "Requirement already satisfied: cffi>=1.12 in /usr/local/lib/python3.6/dist-packages (from cryptography>=2.1.4->azure-storage-blob>=12.0.0->mlflow<=1.13.1->farm==0.6.2->farm-haystack==0.7.0) (1.14.4)\n",
            "Collecting isodate>=0.6.0\n",
            "\u001b[?25l  Downloading https://files.pythonhosted.org/packages/9b/9f/b36f7774ff5ea8e428fdcfc4bb332c39ee5b9362ddd3d40d9516a55221b2/isodate-0.6.0-py2.py3-none-any.whl (45kB)\n",
            "\u001b[K     |████████████████████████████████| 51kB 9.0MB/s \n",
            "\u001b[?25hRequirement already satisfied: requests-oauthlib>=0.5.0 in /usr/local/lib/python3.6/dist-packages (from msrest>=0.6.18->azure-storage-blob>=12.0.0->mlflow<=1.13.1->farm==0.6.2->farm-haystack==0.7.0) (1.3.0)\n",
            "Requirement already satisfied: pycparser in /usr/local/lib/python3.6/dist-packages (from cffi>=1.12->cryptography>=2.1.4->azure-storage-blob>=12.0.0->mlflow<=1.13.1->farm==0.6.2->farm-haystack==0.7.0) (2.20)\n",
            "Requirement already satisfied: oauthlib>=3.0.0 in /usr/local/lib/python3.6/dist-packages (from requests-oauthlib>=0.5.0->msrest>=0.6.18->azure-storage-blob>=12.0.0->mlflow<=1.13.1->farm==0.6.2->farm-haystack==0.7.0) (3.1.0)\n",
            "Building wheels for collected packages: farm-haystack, langdetect, python-multipart, python-docx, sqlalchemy-utils, tika, seqeval, alembic, databricks-cli, prometheus-flask-exporter, sacremoses, Mako\n",
            "  Building wheel for farm-haystack (setup.py) ... \u001b[?25l\u001b[?25hdone\n",
            "  Created wheel for farm-haystack: filename=farm_haystack-0.7.0-cp36-none-any.whl size=127436 sha256=b1092d9b839521681f3d3b59fc847e30da5a4e1fc74cf679c7af95540f0d4c7e\n",
            "  Stored in directory: /tmp/pip-ephem-wheel-cache-_46b4fub/wheels/ab/41/a4/4fbf362de283352078ecb6705c08b6525347aaea2eead2a60c\n",
            "  Building wheel for langdetect (setup.py) ... \u001b[?25l\u001b[?25hdone\n",
            "  Created wheel for langdetect: filename=langdetect-1.0.8-cp36-none-any.whl size=993194 sha256=857d1a640c3ef52c811f1ea30ab7fa166ec79f1deb0ccb5ea92a700d9fb9e300\n",
            "  Stored in directory: /root/.cache/pip/wheels/8d/b3/aa/6d99de9f3841d7d3d40a60ea06e6d669e8e5012e6c8b947a57\n",
            "  Building wheel for python-multipart (setup.py) ... \u001b[?25l\u001b[?25hdone\n",
            "  Created wheel for python-multipart: filename=python_multipart-0.0.5-cp36-none-any.whl size=31671 sha256=2651458c77fd91b1ac025ea8609c231f38dacd3d9ba05c6cc178a4cee1aac701\n",
            "  Stored in directory: /root/.cache/pip/wheels/f0/e6/66/14a866a3cbd6a0cabfbef91f7edf40aa03595ef6c88d6d1be4\n",
            "  Building wheel for python-docx (setup.py) ... \u001b[?25l\u001b[?25hdone\n",
            "  Created wheel for python-docx: filename=python_docx-0.8.10-cp36-none-any.whl size=184491 sha256=aee98e1d827b19ba19ef3ce4a203e761d68f672ba2b82dbf219ac9cd49542a6a\n",
            "  Stored in directory: /root/.cache/pip/wheels/18/0b/a0/1dd62ff812c857c9e487f27d80d53d2b40531bec1acecfa47b\n",
            "  Building wheel for sqlalchemy-utils (setup.py) ... \u001b[?25l\u001b[?25hdone\n",
            "  Created wheel for sqlalchemy-utils: filename=SQLAlchemy_Utils-0.36.8-py2.py3-none-any.whl size=93220 sha256=e484251e7ecf06175a14cfab7e77792d288711b848bdefaa18f8e85d2a0fcc28\n",
            "  Stored in directory: /root/.cache/pip/wheels/68/31/b6/a96bf6868f42753696d647846c9a0f8e51bd99295790d07660\n",
            "  Building wheel for tika (setup.py) ... \u001b[?25l\u001b[?25hdone\n",
            "  Created wheel for tika: filename=tika-1.24-cp36-none-any.whl size=32885 sha256=da62d947bb602cd1018ba7576187374c5e4944d196bb9300f93ad0ae607b8d50\n",
            "  Stored in directory: /root/.cache/pip/wheels/73/9c/f5/0b1b738442fc2a2862bef95b908b374f8e80215550fb2a8975\n",
            "  Building wheel for seqeval (setup.py) ... \u001b[?25l\u001b[?25hdone\n",
            "  Created wheel for seqeval: filename=seqeval-1.2.2-cp36-none-any.whl size=16171 sha256=1a936c2b0f88469ea61a076d5b01f50dfeaadbd48afbcbbbce12e3668e2c22d5\n",
            "  Stored in directory: /root/.cache/pip/wheels/52/df/1b/45d75646c37428f7e626214704a0e35bd3cfc32eda37e59e5f\n"
          ],
          "name": "stdout"
        }
      ]
    },
    {
      "cell_type": "code",
      "metadata": {
        "colab": {
          "base_uri": "https://localhost:8080/"
        },
        "id": "QBLnhCB9x3BJ",
        "outputId": "77104806-72e8-4369-e370-9eb48ca33bd8"
      },
      "source": [
        "from haystack import Finder\r\n",
        "from haystack.preprocessor.cleaning import clean_wiki_text\r\n",
        "from haystack.preprocessor.utils import convert_files_to_dicts, fetch_archive_from_http\r\n",
        "from haystack.reader.farm import FARMReader\r\n",
        "from haystack.reader.transformers import TransformersReader\r\n",
        "from haystack.utils import print_answers"
      ],
      "execution_count": null,
      "outputs": [
        {
          "output_type": "stream",
          "text": [
            "02/02/2021 19:11:42 - INFO - faiss -   Loading faiss with AVX2 support.\n",
            "02/02/2021 19:11:42 - INFO - faiss -   Loading faiss.\n"
          ],
          "name": "stderr"
        }
      ]
    },
    {
      "cell_type": "code",
      "metadata": {
        "id": "xYS6Q9unx4RR"
      },
      "source": [
        "from haystack.document_store.faiss import FAISSDocumentStore\r\n",
        "\r\n",
        "document_store = FAISSDocumentStore(faiss_index_factory_str=\"Flat\")"
      ],
      "execution_count": null,
      "outputs": []
    },
    {
      "cell_type": "code",
      "metadata": {
        "colab": {
          "base_uri": "https://localhost:8080/"
        },
        "id": "haia9W25x9lj",
        "outputId": "8289699e-c311-4fa9-e290-eaa3a2b41029"
      },
      "source": [
        "# Let's first get some files that we want to use\r\n",
        "doc_dir = \"sample_data/Quran\"\r\n",
        "s3_url = \"https://drive.google.com/file/d/19nAabK1snhx-v8fp0I8LTxkXSzRhIxYc/view?usp=sharing\"\r\n",
        "fetch_archive_from_http(url=s3_url, output_dir=doc_dir)\r\n",
        "\r\n",
        "# Convert files to dicts\r\n",
        "dicts = convert_files_to_dicts(dir_path=doc_dir, clean_func=clean_wiki_text, split_paragraphs=True)\r\n",
        "\r\n",
        "# Now, let's write the dicts containing documents to our DB.\r\n",
        "document_store.write_documents(dicts)"
      ],
      "execution_count": null,
      "outputs": [
        {
          "output_type": "stream",
          "text": [
            "02/02/2021 19:11:43 - INFO - haystack.preprocessor.utils -   Converting sample_data/Quran/010.txt\n",
            "02/02/2021 19:11:43 - INFO - haystack.preprocessor.utils -   Converting sample_data/Quran/012.txt\n",
            "02/02/2021 19:11:43 - INFO - haystack.preprocessor.utils -   Converting sample_data/Quran/076.txt\n",
            "02/02/2021 19:11:43 - INFO - haystack.preprocessor.utils -   Converting sample_data/Quran/013.txt\n",
            "02/02/2021 19:11:43 - INFO - haystack.preprocessor.utils -   Converting sample_data/Quran/003.txt\n",
            "02/02/2021 19:11:43 - INFO - haystack.preprocessor.utils -   Converting sample_data/Quran/101.txt\n",
            "02/02/2021 19:11:43 - INFO - haystack.preprocessor.utils -   Converting sample_data/Quran/107.txt\n",
            "02/02/2021 19:11:43 - INFO - haystack.preprocessor.utils -   Converting sample_data/Quran/008.txt\n",
            "02/02/2021 19:11:43 - INFO - haystack.preprocessor.utils -   Converting sample_data/Quran/090.txt\n",
            "02/02/2021 19:11:43 - INFO - haystack.preprocessor.utils -   Converting sample_data/Quran/067.txt\n",
            "02/02/2021 19:11:43 - INFO - haystack.preprocessor.utils -   Converting sample_data/Quran/068.txt\n",
            "02/02/2021 19:11:43 - INFO - haystack.preprocessor.utils -   Converting sample_data/Quran/032.txt\n",
            "02/02/2021 19:11:43 - INFO - haystack.preprocessor.utils -   Converting sample_data/Quran/011.txt\n",
            "02/02/2021 19:11:43 - INFO - haystack.preprocessor.utils -   Converting sample_data/Quran/038.txt\n",
            "02/02/2021 19:11:43 - INFO - haystack.preprocessor.utils -   Converting sample_data/Quran/045.txt\n",
            "02/02/2021 19:11:43 - INFO - haystack.preprocessor.utils -   Converting sample_data/Quran/022.txt\n",
            "02/02/2021 19:11:43 - INFO - haystack.preprocessor.utils -   Converting sample_data/Quran/047.txt\n",
            "02/02/2021 19:11:43 - INFO - haystack.preprocessor.utils -   Converting sample_data/Quran/025.txt\n",
            "02/02/2021 19:11:43 - INFO - haystack.preprocessor.utils -   Converting sample_data/Quran/084.txt\n",
            "02/02/2021 19:11:43 - INFO - haystack.preprocessor.utils -   Converting sample_data/Quran/018.txt\n",
            "02/02/2021 19:11:43 - INFO - haystack.preprocessor.utils -   Converting sample_data/Quran/097.txt\n",
            "02/02/2021 19:11:43 - INFO - haystack.preprocessor.utils -   Converting sample_data/Quran/044.txt\n",
            "02/02/2021 19:11:43 - INFO - haystack.preprocessor.utils -   Converting sample_data/Quran/085.txt\n",
            "02/02/2021 19:11:43 - INFO - haystack.preprocessor.utils -   Converting sample_data/Quran/074.txt\n",
            "02/02/2021 19:11:43 - INFO - haystack.preprocessor.utils -   Converting sample_data/Quran/014.txt\n",
            "02/02/2021 19:11:43 - INFO - haystack.preprocessor.utils -   Converting sample_data/Quran/114.txt\n",
            "02/02/2021 19:11:43 - INFO - haystack.preprocessor.utils -   Converting sample_data/Quran/098.txt\n",
            "02/02/2021 19:11:43 - INFO - haystack.preprocessor.utils -   Converting sample_data/Quran/052.txt\n",
            "02/02/2021 19:11:43 - INFO - haystack.preprocessor.utils -   Converting sample_data/Quran/020.txt\n",
            "02/02/2021 19:11:43 - INFO - haystack.preprocessor.utils -   Converting sample_data/Quran/023.txt\n",
            "02/02/2021 19:11:43 - INFO - haystack.preprocessor.utils -   Converting sample_data/Quran/019.txt\n",
            "02/02/2021 19:11:43 - INFO - haystack.preprocessor.utils -   Converting sample_data/Quran/112.txt\n",
            "02/02/2021 19:11:43 - INFO - haystack.preprocessor.utils -   Converting sample_data/Quran/108.txt\n",
            "02/02/2021 19:11:43 - INFO - haystack.preprocessor.utils -   Converting sample_data/Quran/021.txt\n",
            "02/02/2021 19:11:43 - INFO - haystack.preprocessor.utils -   Converting sample_data/Quran/064.txt\n",
            "02/02/2021 19:11:43 - INFO - haystack.preprocessor.utils -   Converting sample_data/Quran/049.txt\n",
            "02/02/2021 19:11:43 - INFO - haystack.preprocessor.utils -   Converting sample_data/Quran/024.txt\n",
            "02/02/2021 19:11:43 - INFO - haystack.preprocessor.utils -   Converting sample_data/Quran/069.txt\n",
            "02/02/2021 19:11:43 - INFO - haystack.preprocessor.utils -   Converting sample_data/Quran/017.txt\n",
            "02/02/2021 19:11:43 - INFO - haystack.preprocessor.utils -   Converting sample_data/Quran/083.txt\n",
            "02/02/2021 19:11:43 - INFO - haystack.preprocessor.utils -   Converting sample_data/Quran/059.txt\n",
            "02/02/2021 19:11:43 - INFO - haystack.preprocessor.utils -   Converting sample_data/Quran/070.txt\n",
            "02/02/2021 19:11:43 - INFO - haystack.preprocessor.utils -   Converting sample_data/Quran/004.txt\n",
            "02/02/2021 19:11:43 - INFO - haystack.preprocessor.utils -   Converting sample_data/Quran/104.txt\n",
            "02/02/2021 19:11:43 - INFO - haystack.preprocessor.utils -   Converting sample_data/Quran/005.txt\n",
            "02/02/2021 19:11:43 - INFO - haystack.preprocessor.utils -   Converting sample_data/Quran/102.txt\n",
            "02/02/2021 19:11:43 - INFO - haystack.preprocessor.utils -   Converting sample_data/Quran/016.txt\n",
            "02/02/2021 19:11:43 - INFO - haystack.preprocessor.utils -   Converting sample_data/Quran/078.txt\n",
            "02/02/2021 19:11:43 - INFO - haystack.preprocessor.utils -   Converting sample_data/Quran/042.txt\n",
            "02/02/2021 19:11:43 - INFO - haystack.preprocessor.utils -   Converting sample_data/Quran/088.txt\n",
            "02/02/2021 19:11:43 - INFO - haystack.preprocessor.utils -   Converting sample_data/Quran/026.txt\n",
            "02/02/2021 19:11:43 - INFO - haystack.preprocessor.utils -   Converting sample_data/Quran/053.txt\n",
            "02/02/2021 19:11:43 - INFO - haystack.preprocessor.utils -   Converting sample_data/Quran/093.txt\n",
            "02/02/2021 19:11:43 - INFO - haystack.preprocessor.utils -   Converting sample_data/Quran/033.txt\n",
            "02/02/2021 19:11:43 - INFO - haystack.preprocessor.utils -   Converting sample_data/Quran/046.txt\n",
            "02/02/2021 19:11:43 - INFO - haystack.preprocessor.utils -   Converting sample_data/Quran/039.txt\n",
            "02/02/2021 19:11:43 - INFO - haystack.preprocessor.utils -   Converting sample_data/Quran/073.txt\n",
            "02/02/2021 19:11:43 - INFO - haystack.preprocessor.utils -   Converting sample_data/Quran/081.txt\n",
            "02/02/2021 19:11:43 - INFO - haystack.preprocessor.utils -   Converting sample_data/Quran/071.txt\n",
            "02/02/2021 19:11:43 - INFO - haystack.preprocessor.utils -   Converting sample_data/Quran/051.txt\n",
            "02/02/2021 19:11:43 - INFO - haystack.preprocessor.utils -   Converting sample_data/Quran/091.txt\n",
            "02/02/2021 19:11:43 - INFO - haystack.preprocessor.utils -   Converting sample_data/Quran/009.txt\n",
            "02/02/2021 19:11:43 - INFO - haystack.preprocessor.utils -   Converting sample_data/Quran/094.txt\n",
            "02/02/2021 19:11:43 - INFO - haystack.preprocessor.utils -   Converting sample_data/Quran/060.txt\n",
            "02/02/2021 19:11:43 - INFO - haystack.preprocessor.utils -   Converting sample_data/Quran/100.txt\n",
            "02/02/2021 19:11:43 - INFO - haystack.preprocessor.utils -   Converting sample_data/Quran/031.txt\n",
            "02/02/2021 19:11:43 - INFO - haystack.preprocessor.utils -   Converting sample_data/Quran/050.txt\n",
            "02/02/2021 19:11:43 - INFO - haystack.preprocessor.utils -   Converting sample_data/Quran/082.txt\n",
            "02/02/2021 19:11:43 - INFO - haystack.preprocessor.utils -   Converting sample_data/Quran/087.txt\n",
            "02/02/2021 19:11:43 - INFO - haystack.preprocessor.utils -   Converting sample_data/Quran/001.txt\n",
            "02/02/2021 19:11:43 - INFO - haystack.preprocessor.utils -   Converting sample_data/Quran/113.txt\n",
            "02/02/2021 19:11:43 - INFO - haystack.preprocessor.utils -   Converting sample_data/Quran/027.txt\n",
            "02/02/2021 19:11:43 - INFO - haystack.preprocessor.utils -   Converting sample_data/Quran/072.txt\n",
            "02/02/2021 19:11:43 - INFO - haystack.preprocessor.utils -   Converting sample_data/Quran/096.txt\n",
            "02/02/2021 19:11:43 - INFO - haystack.preprocessor.utils -   Converting sample_data/Quran/007.txt\n",
            "02/02/2021 19:11:43 - INFO - haystack.preprocessor.utils -   Converting sample_data/Quran/065.txt\n",
            "02/02/2021 19:11:43 - INFO - haystack.preprocessor.utils -   Converting sample_data/Quran/086.txt\n",
            "02/02/2021 19:11:43 - INFO - haystack.preprocessor.utils -   Converting sample_data/Quran/036.txt\n",
            "02/02/2021 19:11:43 - INFO - haystack.preprocessor.utils -   Converting sample_data/Quran/095.txt\n",
            "02/02/2021 19:11:43 - INFO - haystack.preprocessor.utils -   Converting sample_data/Quran/040.txt\n",
            "02/02/2021 19:11:43 - INFO - haystack.preprocessor.utils -   Converting sample_data/Quran/006.txt\n",
            "02/02/2021 19:11:43 - INFO - haystack.preprocessor.utils -   Converting sample_data/Quran/106.txt\n",
            "02/02/2021 19:11:43 - INFO - haystack.preprocessor.utils -   Converting sample_data/Quran/028.txt\n",
            "02/02/2021 19:11:43 - INFO - haystack.preprocessor.utils -   Converting sample_data/Quran/015.txt\n",
            "02/02/2021 19:11:43 - INFO - haystack.preprocessor.utils -   Converting sample_data/Quran/029.txt\n",
            "02/02/2021 19:11:43 - INFO - haystack.preprocessor.utils -   Converting sample_data/Quran/041.txt\n",
            "02/02/2021 19:11:43 - INFO - haystack.preprocessor.utils -   Converting sample_data/Quran/063.txt\n",
            "02/02/2021 19:11:43 - INFO - haystack.preprocessor.utils -   Converting sample_data/Quran/099.txt\n",
            "02/02/2021 19:11:43 - INFO - haystack.preprocessor.utils -   Converting sample_data/Quran/062.txt\n",
            "02/02/2021 19:11:43 - INFO - haystack.preprocessor.utils -   Converting sample_data/Quran/058.txt\n",
            "02/02/2021 19:11:43 - INFO - haystack.preprocessor.utils -   Converting sample_data/Quran/056.txt\n",
            "02/02/2021 19:11:43 - INFO - haystack.preprocessor.utils -   Converting sample_data/Quran/055.txt\n",
            "02/02/2021 19:11:43 - INFO - haystack.preprocessor.utils -   Converting sample_data/Quran/089.txt\n",
            "02/02/2021 19:11:43 - INFO - haystack.preprocessor.utils -   Converting sample_data/Quran/030.txt\n",
            "02/02/2021 19:11:43 - INFO - haystack.preprocessor.utils -   Converting sample_data/Quran/061.txt\n",
            "02/02/2021 19:11:43 - INFO - haystack.preprocessor.utils -   Converting sample_data/Quran/034.txt\n",
            "02/02/2021 19:11:43 - INFO - haystack.preprocessor.utils -   Converting sample_data/Quran/057.txt\n",
            "02/02/2021 19:11:43 - INFO - haystack.preprocessor.utils -   Converting sample_data/Quran/111.txt\n",
            "02/02/2021 19:11:43 - INFO - haystack.preprocessor.utils -   Converting sample_data/Quran/048.txt\n",
            "02/02/2021 19:11:43 - INFO - haystack.preprocessor.utils -   Converting sample_data/Quran/066.txt\n",
            "02/02/2021 19:11:43 - INFO - haystack.preprocessor.utils -   Converting sample_data/Quran/035.txt\n",
            "02/02/2021 19:11:43 - INFO - haystack.preprocessor.utils -   Converting sample_data/Quran/105.txt\n",
            "02/02/2021 19:11:43 - INFO - haystack.preprocessor.utils -   Converting sample_data/Quran/079.txt\n",
            "02/02/2021 19:11:43 - INFO - haystack.preprocessor.utils -   Converting sample_data/Quran/110.txt\n",
            "02/02/2021 19:11:43 - INFO - haystack.preprocessor.utils -   Converting sample_data/Quran/054.txt\n",
            "02/02/2021 19:11:43 - INFO - haystack.preprocessor.utils -   Converting sample_data/Quran/109.txt\n",
            "02/02/2021 19:11:43 - INFO - haystack.preprocessor.utils -   Converting sample_data/Quran/092.txt\n",
            "02/02/2021 19:11:43 - INFO - haystack.preprocessor.utils -   Converting sample_data/Quran/043.txt\n",
            "02/02/2021 19:11:43 - INFO - haystack.preprocessor.utils -   Converting sample_data/Quran/037.txt\n",
            "02/02/2021 19:11:43 - INFO - haystack.preprocessor.utils -   Converting sample_data/Quran/080.txt\n",
            "02/02/2021 19:11:43 - INFO - haystack.preprocessor.utils -   Converting sample_data/Quran/002.txt\n",
            "02/02/2021 19:11:43 - INFO - haystack.preprocessor.utils -   Converting sample_data/Quran/103.txt\n",
            "02/02/2021 19:11:43 - INFO - haystack.preprocessor.utils -   Converting sample_data/Quran/075.txt\n",
            "02/02/2021 19:11:43 - INFO - haystack.preprocessor.utils -   Converting sample_data/Quran/077.txt\n"
          ],
          "name": "stderr"
        }
      ]
    },
    {
      "cell_type": "code",
      "metadata": {
        "colab": {
          "base_uri": "https://localhost:8080/"
        },
        "id": "-aINhDZBAUAd",
        "outputId": "0e0d43d0-45df-44bf-f0fb-26f197f0c547"
      },
      "source": [
        "from haystack.retriever.dense import DensePassageRetriever\r\n",
        "retriever = DensePassageRetriever(document_store=document_store,\r\n",
        "                                  query_embedding_model=\"facebook/dpr-question_encoder-single-nq-base\",\r\n",
        "                                  passage_embedding_model=\"facebook/dpr-ctx_encoder-single-nq-base\",\r\n",
        "                                  max_seq_len_query=64,\r\n",
        "                                  max_seq_len_passage=256,\r\n",
        "                                  batch_size=16,\r\n",
        "                                  use_gpu=True,\r\n",
        "                                  embed_title=True,\r\n",
        "                                  use_fast_tokenizers=True)\r\n",
        "# Important: \r\n",
        "# Now that after we have the DPR initialized, we need to call update_embeddings() to iterate over all\r\n",
        "# previously indexed documents and update their embedding representation. \r\n",
        "# While this can be a time consuming operation (depending on corpus size), it only needs to be done once. \r\n",
        "# At query time, we only need to embed the query and compare it the existing doc embeddings which is very fast.\r\n",
        "document_store.update_embeddings(retriever)"
      ],
      "execution_count": null,
      "outputs": [
        {
          "output_type": "stream",
          "text": [
            "02/02/2021 19:12:01 - INFO - haystack.document_store.faiss -   Updating embeddings for 114 docs...\n"
          ],
          "name": "stderr"
        }
      ]
    },
    {
      "cell_type": "code",
      "metadata": {
        "colab": {
          "base_uri": "https://localhost:8080/"
        },
        "id": "GcSZiw2JAedt",
        "outputId": "0b087278-2caf-4175-9424-3190073f6b5b"
      },
      "source": [
        "# Load a  local model or any of the QA models on\r\n",
        "# Hugging Face's model hub (https://huggingface.co/models)\r\n",
        "\r\n",
        "reader = FARMReader(model_name_or_path=\"deepset/roberta-base-squad2\", use_gpu=True)"
      ],
      "execution_count": null,
      "outputs": [
        {
          "output_type": "stream",
          "text": [
            "02/02/2021 19:12:03 - INFO - farm.utils -   Using device: CUDA \n",
            "02/02/2021 19:12:03 - INFO - farm.utils -   Number of GPUs: 1\n",
            "02/02/2021 19:12:03 - INFO - farm.utils -   Distributed Training: False\n",
            "02/02/2021 19:12:03 - INFO - farm.utils -   Automatic Mixed Precision: None\n",
            "Some weights of RobertaModel were not initialized from the model checkpoint at deepset/roberta-base-squad2 and are newly initialized: ['roberta.pooler.dense.weight', 'roberta.pooler.dense.bias']\n",
            "You should probably TRAIN this model on a down-stream task to be able to use it for predictions and inference.\n",
            "02/02/2021 19:12:12 - WARNING - farm.utils -   Failed to log params: Changing param values is not allowed. Param with key='prediction_heads' was already logged with value='TextSimilarityHead' for run ID='f72987091e944596a6cd3710496e9501'. Attempted logging new value 'QuestionAnsweringHead'.\n",
            "02/02/2021 19:12:14 - WARNING - farm.utils -   Failed to log params: Changing param values is not allowed. Param with key='processor' was already logged with value='TextSimilarityProcessor' for run ID='f72987091e944596a6cd3710496e9501'. Attempted logging new value 'SquadProcessor'.\n",
            "02/02/2021 19:12:14 - WARNING - farm.utils -   ML Logging is turned off. No parameters, metrics or artifacts will be logged to MLFlow.\n",
            "02/02/2021 19:12:14 - INFO - farm.utils -   Using device: CUDA \n",
            "02/02/2021 19:12:14 - INFO - farm.utils -   Number of GPUs: 1\n",
            "02/02/2021 19:12:14 - INFO - farm.utils -   Distributed Training: False\n",
            "02/02/2021 19:12:14 - INFO - farm.utils -   Automatic Mixed Precision: None\n",
            "02/02/2021 19:12:14 - INFO - farm.infer -   Got ya 2 parallel workers to do inference ...\n",
            "02/02/2021 19:12:14 - INFO - farm.infer -    0    0 \n",
            "02/02/2021 19:12:14 - INFO - farm.infer -   /w\\  /w\\\n",
            "02/02/2021 19:12:14 - INFO - farm.infer -   /'\\  / \\\n",
            "02/02/2021 19:12:14 - INFO - farm.infer -     \n"
          ],
          "name": "stderr"
        }
      ]
    },
    {
      "cell_type": "code",
      "metadata": {
        "colab": {
          "base_uri": "https://localhost:8080/"
        },
        "id": "iZ6tx4r-AfQs",
        "outputId": "c6bcca52-f14a-4a1d-81fb-c3124b9d91fb"
      },
      "source": [
        "finder = Finder(reader, retriever)"
      ],
      "execution_count": null,
      "outputs": [
        {
          "output_type": "stream",
          "text": [
            "02/02/2021 19:12:14 - WARNING - haystack.finder -   DEPRECATION WARNINGS: \n",
            "            1. The 'Finder' class will be deprecated in the next Haystack release in \n",
            "            favour of a new `Pipeline` class that supports building custom search pipelines using Haystack components\n",
            "            including Retriever, Readers, and Generators.\n",
            "            For more details, please refer to the issue: https://github.com/deepset-ai/haystack/issues/544\n",
            "            2. The `question` parameter in search requests & results is renamed to `query`.\n"
          ],
          "name": "stderr"
        }
      ]
    },
    {
      "cell_type": "code",
      "metadata": {
        "colab": {
          "base_uri": "https://localhost:8080/"
        },
        "id": "9qQECPJ8Ah1V",
        "outputId": "f84aac42-5669-4a46-9c3b-6e285b18990b"
      },
      "source": [
        "# You can configure how many candidates the reader and retriever shall return\r\n",
        "# The higher top_k_retriever, the better (but also the slower) your answers. \r\n",
        "#prediction = finder.get_answers(question=\"Who created the Dothraki vocabulary?\", top_k_retriever=10, top_k_reader=5)\r\n",
        "\r\n",
        "#prediction = finder.get_answers(question=\"Who is the father of Arya Stark?\", top_k_retriever=10, top_k_reader=5)\r\n",
        "#prediction = finder.get_answers(question=\"Who is the sister of Sansa?\", top_k_retriever=10, top_k_reader=5)\r\n",
        "\r\n",
        "prediction = finder.get_answers(question=\"is Honey bee mentioned?\", top_k_retriever=10, top_k_reader=5)\r\n",
        "print_answers(prediction, details=\"minimal\")"
      ],
      "execution_count": null,
      "outputs": [
        {
          "output_type": "stream",
          "text": [
            "02/02/2021 19:12:14 - WARNING - haystack.finder -   DEPRECATION WARNINGS: \n",
            "            1. The 'Finder' class will be deprecated in the next Haystack release in \n",
            "            favour of a new `Pipeline` class that supports building custom search pipelines using Haystack components\n",
            "            including Retriever, Readers, and Generators.\n",
            "            For more details, please refer to the issue: https://github.com/deepset-ai/haystack/issues/544\n",
            "            2. The `question` parameter in search requests & results is renamed to `query`.\n",
            "02/02/2021 19:12:14 - INFO - haystack.finder -   Got 10 candidates from retriever\n",
            "02/02/2021 19:12:14 - INFO - haystack.finder -   Reader is looking for detailed answer in 76349 chars ...\n"
          ],
          "name": "stderr"
        },
        {
          "output_type": "stream",
          "text": [
            "[   {   'answer': 'All praise belongs to Allah',\n",
            "        'context': 'h he gives secretly and openly. Are they equal in '\n",
            "                   'comparison? All praise belongs to Allah, but most of them '\n",
            "                   'do not know.\\n'\n",
            "                   '76. And Allah cites the examp'},\n",
            "    {   'answer': 'Abraham',\n",
            "        'context': 'gdoers.\"\\n'\n",
            "                   '60. They said, \"We heard a youth mentioning them. He is '\n",
            "                   'called Abraham.\"\\n'\n",
            "                   '61. They said, \"Bring him before the eyes of the people, '\n",
            "                   'so that the'},\n",
            "    {   'answer': 'a youth',\n",
            "        'context': ' gods? He is certainly one of the wrongdoers.\"\\n'\n",
            "                   '60. They said, \"We heard a youth mentioning them. He is '\n",
            "                   'called Abraham.\"\\n'\n",
            "                   '61. They said, \"Bring him befo'},\n",
            "    {   'answer': 'Moses',\n",
            "        'context': ' gave them a noble reputation of truth.\\n'\n",
            "                   '51. And mention in the Scripture Moses. He was dedicated. '\n",
            "                   'He was a messenger and a prophet.\\n'\n",
            "                   '52. And We called '},\n",
            "    {   'answer': 'Call on your partners',\n",
            "        'context': '; it was not us they used to worship.\"\\n'\n",
            "                   '64. And it will be said, \"Call on your partners.\" And they '\n",
            "                   'will call on them, but they will not respond to them'}]\n"
          ],
          "name": "stdout"
        }
      ]
    },
    {
      "cell_type": "code",
      "metadata": {
        "id": "_TXRS30ZAoGx"
      },
      "source": [
        "#print_answers(prediction, details=\"minimal\")"
      ],
      "execution_count": null,
      "outputs": []
    }
  ]
}